{
 "cells": [
  {
   "cell_type": "markdown",
   "metadata": {},
   "source": [
    "#### 1.Write a Python function check the 3 is prime or not?"
   ]
  },
  {
   "cell_type": "code",
   "execution_count": 2,
   "metadata": {},
   "outputs": [
    {
     "name": "stdout",
     "output_type": "stream",
     "text": [
      "Enter the number:3\n",
      "3 is a prime number\n"
     ]
    }
   ],
   "source": [
    "def prime():\n",
    "    n=int(input('Enter the number:'))\n",
    "    if(n<=1):\n",
    "        print(n,'is not a prime number')\n",
    "    elif(n>0):\n",
    "        for i in range(2,n):\n",
    "            if(n%i==0):\n",
    "                print(n,'is not a prime number')\n",
    "                break     \n",
    "        else:\n",
    "            print(n,'is a prime number')\n",
    "prime()        "
   ]
  },
  {
   "cell_type": "markdown",
   "metadata": {},
   "source": [
    "#### 2.Write a Python function string = ASDBDSA is palindrome or not?"
   ]
  },
  {
   "cell_type": "code",
   "execution_count": 15,
   "metadata": {},
   "outputs": [
    {
     "name": "stdout",
     "output_type": "stream",
     "text": [
      "Enter the string : ASDBDSA\n",
      "ASDBDSA is a palindrome\n"
     ]
    }
   ],
   "source": [
    "def palindrome(n):\n",
    "    if(n==n[::-1]):\n",
    "        print(n,'is a palindrome')\n",
    "    else:\n",
    "        print(n,'is not a palindrome')\n",
    "        \n",
    "s=input('Enter the string : ')\n",
    "palindrome(s)"
   ]
  },
  {
   "cell_type": "markdown",
   "metadata": {},
   "source": [
    "#### 3. Write a Python function Print 7 Pascal's triangle."
   ]
  },
  {
   "cell_type": "code",
   "execution_count": 3,
   "metadata": {},
   "outputs": [
    {
     "name": "stdout",
     "output_type": "stream",
     "text": [
      "Enter number of rows: 7\n",
      "                          1 \n",
      "                       1     1 \n",
      "                    1     2     1 \n",
      "                 1     3     3     1 \n",
      "              1     4     6     4     1 \n",
      "           1     5    10    10     5     1 \n",
      "        1     6    15    20    15     6     1 \n"
     ]
    }
   ],
   "source": [
    "def pascal():\n",
    "    n = int(input(\"Enter number of rows: \"))\n",
    "    a = []\n",
    "\n",
    "    for i in range(n):\n",
    "        a.append([])\n",
    "        a[i].append(1)\n",
    "\n",
    "        for j in range(1, i):\n",
    "            a[i].append(a[i - 1][j - 1] + a[i - 1][j])\n",
    "        if (n != 0):\n",
    "            a[i].append(1)\n",
    "\n",
    "    for i in range(n):\n",
    "        print(\"   \" * (n - i), end = \" \", sep = \" \")\n",
    "\n",
    "        for j in range(0, i + 1):\n",
    "            print('{0:5}'.format(a[i][j]), end = \" \", sep = \" \")\n",
    "        print()\n",
    "\n",
    "pascal()"
   ]
  },
  {
   "cell_type": "markdown",
   "metadata": {},
   "source": [
    "#### 4. Write a Python function Print given range (1,10) print i**2?"
   ]
  },
  {
   "cell_type": "code",
   "execution_count": 6,
   "metadata": {},
   "outputs": [
    {
     "name": "stdout",
     "output_type": "stream",
     "text": [
      "Enter the range : 10\n",
      "1 4 9 16 25 36 49 64 81 "
     ]
    }
   ],
   "source": [
    "def sq():\n",
    "    n=int(input('Enter the range : '))\n",
    "    for i in range(1,n):\n",
    "        print(i**2,end=' ')\n",
    "        \n",
    "sq()"
   ]
  },
  {
   "cell_type": "markdown",
   "metadata": {},
   "source": [
    "#### 5.Write a Python function to calculate the harmonic for number (4,9)"
   ]
  },
  {
   "cell_type": "code",
   "execution_count": 9,
   "metadata": {},
   "outputs": [
    {
     "name": "stdout",
     "output_type": "stream",
     "text": [
      "Enter the starting range : 4\n",
      "Enter the final range : 9\n",
      "The harmonic mean is 5.54\n"
     ]
    }
   ],
   "source": [
    "def har_mean():\n",
    "    m=int(input('Enter the starting range : '))\n",
    "    n=int(input('Enter the final range : '))\n",
    "    sum=(1/m)+(1/n)\n",
    "    hm=2/sum\n",
    "    return hm\n",
    "print('The harmonic mean is %0.2f'%har_mean())"
   ]
  },
  {
   "cell_type": "markdown",
   "metadata": {},
   "source": [
    "#### 6.Write a Python function to calculate the geometric for number (4,9)"
   ]
  },
  {
   "cell_type": "code",
   "execution_count": 10,
   "metadata": {},
   "outputs": [
    {
     "name": "stdout",
     "output_type": "stream",
     "text": [
      "Enter the starting range : 4\n",
      "Enter the final range : 9\n",
      "The geometric mean is 6.00\n"
     ]
    }
   ],
   "source": [
    "def geo_mean():\n",
    "    m=int(input('Enter the starting range : '))\n",
    "    n=int(input('Enter the final range : '))\n",
    "    gm=(m*n)**(0.5)\n",
    "    return gm\n",
    "print('The geometric mean is %0.2f'%geo_mean())\n",
    "        "
   ]
  },
  {
   "cell_type": "markdown",
   "metadata": {},
   "source": [
    "#### Types of arguments\n",
    "\n",
    "\n",
    "    1. Required arguments\n",
    "    2. Keyword arguments\n",
    "    3. Default arguments\n",
    "    4. Variable-length arguments"
   ]
  },
  {
   "cell_type": "markdown",
   "metadata": {},
   "source": [
    "#### 1. Required arguments: (the function calculate returns the sum of two arguments a and b )"
   ]
  },
  {
   "cell_type": "code",
   "execution_count": 2,
   "metadata": {},
   "outputs": [
    {
     "data": {
      "text/plain": [
       "30"
      ]
     },
     "execution_count": 2,
     "metadata": {},
     "output_type": "execute_result"
    }
   ],
   "source": [
    "def sum_no(x,y):\n",
    "    return x+y\n",
    "\n",
    "sum_no(10,20)"
   ]
  },
  {
   "cell_type": "markdown",
   "metadata": {},
   "source": [
    "#### 2.Keyword arguments:(The function simple_interest(p, t, r) is called with the keyword arguments)"
   ]
  },
  {
   "cell_type": "code",
   "execution_count": 13,
   "metadata": {},
   "outputs": [
    {
     "data": {
      "text/plain": [
       "5600.0"
      ]
     },
     "execution_count": 13,
     "metadata": {},
     "output_type": "execute_result"
    }
   ],
   "source": [
    "def simple_interest(p,t,r):\n",
    "    return (p*t*r)/100\n",
    "\n",
    "simple_interest(r=14,t=2,p=20000)"
   ]
  },
  {
   "cell_type": "markdown",
   "metadata": {},
   "source": [
    "#### 3. Default arguments"
   ]
  },
  {
   "cell_type": "code",
   "execution_count": 7,
   "metadata": {},
   "outputs": [
    {
     "data": {
      "text/plain": [
       "5600.0"
      ]
     },
     "execution_count": 7,
     "metadata": {},
     "output_type": "execute_result"
    }
   ],
   "source": [
    "def si(t,r,p=20000):\n",
    "    return(p*t*r)/100\n",
    "\n",
    "si(2,14)"
   ]
  },
  {
   "cell_type": "markdown",
   "metadata": {},
   "source": [
    "## lambda function"
   ]
  },
  {
   "cell_type": "markdown",
   "metadata": {},
   "source": [
    "###### 1. Write a map function to find if the given list = [15, 47, 122, 48, 54, 562, 80, 923, 173, 461]  is divisible by 16 output is boolean ?"
   ]
  },
  {
   "cell_type": "code",
   "execution_count": 14,
   "metadata": {},
   "outputs": [
    {
     "name": "stdout",
     "output_type": "stream",
     "text": [
      "[False, False, False, True, False, False, True, False, False, False]\n"
     ]
    }
   ],
   "source": [
    "l=[15, 47, 122, 48, 54, 562, 80, 923, 173, 461]\n",
    "print(list(map(lambda x :True if (x%16==0) else False,l)))"
   ]
  },
  {
   "cell_type": "markdown",
   "metadata": {},
   "source": [
    "###### 2. Use the map() function to calculate the cube of all numbers in the given list: lis1 = [2,4,5,6677,353,464]\n"
   ]
  },
  {
   "cell_type": "code",
   "execution_count": 3,
   "metadata": {},
   "outputs": [
    {
     "name": "stdout",
     "output_type": "stream",
     "text": [
      "[8, 64, 125, 297676210733, 43986977, 99897344]\n"
     ]
    }
   ],
   "source": [
    "l1=[2,4,5,6677,353,464]\n",
    "print(list(map(lambda x: x**3,l1)))"
   ]
  },
  {
   "cell_type": "markdown",
   "metadata": {},
   "source": [
    "#### 3.Create a list = [1,2,3,4,5] of lambdas in a for loop?"
   ]
  },
  {
   "cell_type": "code",
   "execution_count": 12,
   "metadata": {},
   "outputs": [
    {
     "name": "stdout",
     "output_type": "stream",
     "text": [
      "[1, 2, 3, 4, 5]\n"
     ]
    }
   ],
   "source": [
    "l2=lambda x:x\n",
    "print([l2(x) for x in range(1,6)])"
   ]
  }
 ],
 "metadata": {
  "kernelspec": {
   "display_name": "Python 3",
   "language": "python",
   "name": "python3"
  },
  "language_info": {
   "codemirror_mode": {
    "name": "ipython",
    "version": 3
   },
   "file_extension": ".py",
   "mimetype": "text/x-python",
   "name": "python",
   "nbconvert_exporter": "python",
   "pygments_lexer": "ipython3",
   "version": "3.7.6"
  }
 },
 "nbformat": 4,
 "nbformat_minor": 2
}
