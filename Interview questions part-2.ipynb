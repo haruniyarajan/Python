{
 "cells": [
  {
   "cell_type": "markdown",
   "metadata": {
    "colab_type": "text",
    "id": "DO8wFiWKamXP"
   },
   "source": [
    "### 1. Write a code snippet to concatenate firstname and lastname and display the output, (where both are of string datatype)"
   ]
  },
  {
   "cell_type": "code",
   "execution_count": 74,
   "metadata": {
    "colab": {},
    "colab_type": "code",
    "id": "yxJr4nWOamXQ",
    "outputId": "9291c510-f014-4bc1-e6dc-53311d8dffbd"
   },
   "outputs": [
    {
     "name": "stdout",
     "output_type": "stream",
     "text": [
      "Enter the first name: Charles\n",
      "Enter the last name: Darwin\n",
      "The name is Charles Darwin\n"
     ]
    }
   ],
   "source": [
    "firstname=input('Enter the first name: ')\n",
    "lastname=input('Enter the last name: ')\n",
    "print('The name is',firstname+\" \"+lastname)"
   ]
  },
  {
   "cell_type": "markdown",
   "metadata": {
    "colab_type": "text",
    "id": "qIQx7oj2amXX"
   },
   "source": [
    "### 2. Write a code snippet to replace ‘hai’ into ‘hello’ in the given list.\n",
    "lis=['hai','world',43,56]"
   ]
  },
  {
   "cell_type": "code",
   "execution_count": 25,
   "metadata": {},
   "outputs": [
    {
     "name": "stdout",
     "output_type": "stream",
     "text": [
      "['hello', 'world', 43, 56]\n"
     ]
    }
   ],
   "source": [
    "lis=['hai','world',43,56]\n",
    "lis[0]='hello'\n",
    "print(lis)"
   ]
  },
  {
   "cell_type": "markdown",
   "metadata": {
    "colab_type": "text",
    "id": "qcjWvn5-amXg"
   },
   "source": [
    "### 3. Write a code snippet to add “alpha”:26 to the existing dictionary.\n",
    "dic={'Eddy':13,'Maria':44,'Jas':21}"
   ]
  },
  {
   "cell_type": "code",
   "execution_count": 8,
   "metadata": {},
   "outputs": [
    {
     "name": "stdout",
     "output_type": "stream",
     "text": [
      "{'Eddy': 13, 'Maria': 44, 'Jas': 21, 'alpha': 26}\n"
     ]
    }
   ],
   "source": [
    "dic={'Eddy':13,'Maria':44,'Jas':21}\n",
    "dic.update({'alpha':26})\n",
    "print(dic)"
   ]
  },
  {
   "cell_type": "markdown",
   "metadata": {
    "colab_type": "text",
    "id": "nmNsUS7PamXv"
   },
   "source": [
    "### 4. Write a program to print only the even numbers till 11.\n",
    "\n",
    "   \n",
    "\n",
    "\n"
   ]
  },
  {
   "cell_type": "code",
   "execution_count": 77,
   "metadata": {},
   "outputs": [
    {
     "name": "stdout",
     "output_type": "stream",
     "text": [
      "2 4 6 8 10 "
     ]
    }
   ],
   "source": [
    "for i in range(1,12):\n",
    "    if(i%2==0):\n",
    "        print(i,end=\" \")"
   ]
  },
  {
   "cell_type": "markdown",
   "metadata": {
    "colab_type": "text",
    "id": "yeR9EuDSamX3"
   },
   "source": [
    "### 5. Write a program to print “Python” for multiples of three instead of the number, “Coding” for the multiples of five, “Python Coding” for multiples of both three and five (range is from 1 to 26)."
   ]
  },
  {
   "cell_type": "code",
   "execution_count": 79,
   "metadata": {},
   "outputs": [
    {
     "name": "stdout",
     "output_type": "stream",
     "text": [
      "Python\n",
      "Coding\n",
      "Python\n",
      "Python\n",
      "Coding\n",
      "Python\n",
      "Python Coding\n",
      "Python\n",
      "Coding\n",
      "Python\n",
      "Python\n",
      "Coding\n"
     ]
    }
   ],
   "source": [
    "for i in range(1,26):\n",
    "    if(i%3==0 and i%5==0):\n",
    "        print('Python Coding')\n",
    "    elif(i%3==0):\n",
    "        print('Python')\n",
    "    elif(i%5==0):\n",
    "        print('Coding')"
   ]
  },
  {
   "cell_type": "markdown",
   "metadata": {
    "colab_type": "text",
    "id": "fbboCHo5amX6"
   },
   "source": [
    "### 6. Write a program to display “hello world” 5 times without changing the given while condition (while count<=10)."
   ]
  },
  {
   "cell_type": "code",
   "execution_count": 18,
   "metadata": {},
   "outputs": [
    {
     "name": "stdout",
     "output_type": "stream",
     "text": [
      "hello world\n",
      "hello world\n",
      "hello world\n",
      "hello world\n",
      "hello world\n"
     ]
    }
   ],
   "source": [
    "count=1\n",
    "while(count<=10):\n",
    "    print('hello world')\n",
    "    count+=2"
   ]
  },
  {
   "cell_type": "markdown",
   "metadata": {
    "colab_type": "text",
    "id": "Ajyf9IVNamYD"
   },
   "source": [
    "### 7. Write a program to find the factors of 24?"
   ]
  },
  {
   "cell_type": "code",
   "execution_count": 20,
   "metadata": {},
   "outputs": [
    {
     "name": "stdout",
     "output_type": "stream",
     "text": [
      "1 2 3 4 6 8 12 24 "
     ]
    }
   ],
   "source": [
    "for i in range(1,25):\n",
    "    if(24%i)==0:\n",
    "        print(i,end=' ')"
   ]
  },
  {
   "cell_type": "markdown",
   "metadata": {
    "colab_type": "text",
    "id": "mPow30bOamYH"
   },
   "source": [
    "### 8. Write a program to i) extract name elements alone, ii) multiply the number element by 6.07, iii) check whether  the name element is carbon (use map). \n",
    "d=[{'name':'hydrogen','number':1,'weight':1.0},{'name':'carbon','number':2,'weight':4.002}]"
   ]
  },
  {
   "cell_type": "code",
   "execution_count": 94,
   "metadata": {},
   "outputs": [
    {
     "name": "stdout",
     "output_type": "stream",
     "text": [
      "hydrogen\n",
      "carbon\n"
     ]
    }
   ],
   "source": [
    "d=[{'name':'hydrogen','number':1,'weight':1.0},{'name':'carbon','number':2,'weight':4.002}]\n",
    "for i in range(len(d)):\n",
    "    print(d[i]['name'])"
   ]
  },
  {
   "cell_type": "code",
   "execution_count": 95,
   "metadata": {},
   "outputs": [
    {
     "name": "stdout",
     "output_type": "stream",
     "text": [
      "[{'name': 'hydrogen', 'number': 6.07, 'weight': 1.0}, {'name': 'carbon', 'number': 12.14, 'weight': 4.002}]\n"
     ]
    }
   ],
   "source": [
    "for i in range(len(d)):\n",
    "    d[i]['number']*=6.07\n",
    "print(d)"
   ]
  },
  {
   "cell_type": "code",
   "execution_count": 109,
   "metadata": {},
   "outputs": [
    {
     "name": "stdout",
     "output_type": "stream",
     "text": [
      "False\n",
      "True\n",
      "<map object at 0x7ff9783d3f60>\n"
     ]
    }
   ],
   "source": [
    "def check():\n",
    "    for i in range(len(d)):\n",
    "        if(d[i]['name']=='carbon'):\n",
    "            print(True)\n",
    "        else:\n",
    "            print(False)\n",
    "print(map(check(),d))"
   ]
  },
  {
   "cell_type": "code",
   "execution_count": null,
   "metadata": {},
   "outputs": [],
   "source": []
  },
  {
   "cell_type": "markdown",
   "metadata": {
    "colab_type": "text",
    "id": "a3JOkl1-amYK"
   },
   "source": [
    "### 9. Write a Program to print inverted half pyramid using an asterisk (star) (get the row count from the user)."
   ]
  },
  {
   "cell_type": "code",
   "execution_count": 92,
   "metadata": {
    "colab": {},
    "colab_type": "code",
    "id": "AfyIXdPPamYK"
   },
   "outputs": [
    {
     "name": "stdout",
     "output_type": "stream",
     "text": [
      "Enter the number of rows : 5\n",
      "*****\n",
      "****\n",
      "***\n",
      "**\n",
      "*\n"
     ]
    }
   ],
   "source": [
    "n=int(input('Enter the number of rows : '))\n",
    "for i in range(0,n):\n",
    "    for j in range(0,n-i):\n",
    "        print('*',end='')\n",
    "    print()"
   ]
  },
  {
   "cell_type": "markdown",
   "metadata": {
    "colab_type": "text",
    "id": "2iLWqYhcamYN"
   },
   "source": [
    "### 10. Write a Python Program to swap the first and last elements in the list\n",
    "1.\tGet the input count of \"number of elements in a list\" \n",
    "2.\tGet the input of the elements one by one and create a list\n",
    "3.\tCreate a  program to swap the first and last elements in the list\n",
    "4.\tDisplay the results of the list before and after\n"
   ]
  },
  {
   "cell_type": "code",
   "execution_count": 110,
   "metadata": {},
   "outputs": [
    {
     "name": "stdout",
     "output_type": "stream",
     "text": [
      "Enter the number of elements in the list: 4\n",
      "Enter element 0 in the list : 5\n",
      "Enter element 1 in the list : 6\n",
      "Enter element 2 in the list : 7\n",
      "Enter element 3 in the list : 8\n",
      "List [5, 6, 7, 8]\n"
     ]
    }
   ],
   "source": [
    "n=int(input('Enter the number of elements in the list: '))\n",
    "l=[]\n",
    "for i in range(n):\n",
    "    ele=int(input('Enter element {} in the list : '.format(i)))\n",
    "    l.append(ele)\n",
    "print('List',l)"
   ]
  },
  {
   "cell_type": "code",
   "execution_count": 112,
   "metadata": {},
   "outputs": [
    {
     "name": "stdout",
     "output_type": "stream",
     "text": [
      "Before swapping [5, 6, 7, 8]\n",
      "After swapping [8, 6, 7, 5]\n"
     ]
    }
   ],
   "source": [
    "print('Before swapping',l)\n",
    "l[0],l[-1]=l[-1],l[0]\n",
    "print('After swapping',l1)\n",
    "\n"
   ]
  },
  {
   "cell_type": "code",
   "execution_count": null,
   "metadata": {},
   "outputs": [],
   "source": []
  },
  {
   "cell_type": "markdown",
   "metadata": {
    "colab_type": "text",
    "id": "C6u4MmOrgVlk"
   },
   "source": [
    "### 11. Write a program that accepts a string from the user and calculate the number of digits and letters present in the string.\n"
   ]
  },
  {
   "cell_type": "code",
   "execution_count": 23,
   "metadata": {},
   "outputs": [
    {
     "name": "stdout",
     "output_type": "stream",
     "text": [
      "Enter the string : ALba123\n",
      "Count of letters:  4\n",
      "Count of digits:  3\n"
     ]
    }
   ],
   "source": [
    "string=input('Enter the string : ')\n",
    "letters=digits=0\n",
    "for i in string:\n",
    "    if i.isalpha():\n",
    "        letters+=1\n",
    "    if i.isnumeric():\n",
    "        digits+=1\n",
    "print('Count of letters: ',letters)\n",
    "print('Count of digits: ',digits)\n",
    "        "
   ]
  },
  {
   "cell_type": "code",
   "execution_count": null,
   "metadata": {},
   "outputs": [],
   "source": []
  }
 ],
 "metadata": {
  "colab": {
   "collapsed_sections": [],
   "name": "ITP_Assessment_Questions (1).ipynb",
   "provenance": []
  },
  "kernelspec": {
   "display_name": "Python 3",
   "language": "python",
   "name": "python3"
  },
  "language_info": {
   "codemirror_mode": {
    "name": "ipython",
    "version": 3
   },
   "file_extension": ".py",
   "mimetype": "text/x-python",
   "name": "python",
   "nbconvert_exporter": "python",
   "pygments_lexer": "ipython3",
   "version": "3.7.6"
  }
 },
 "nbformat": 4,
 "nbformat_minor": 1
}
