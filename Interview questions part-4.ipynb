{
 "cells": [
  {
   "cell_type": "markdown",
   "metadata": {},
   "source": [
    " _________________"
   ]
  },
  {
   "cell_type": "markdown",
   "metadata": {},
   "source": [
    "### 1. The acre is a unit used to measure land in the imperial and US customary systems. One acre of land is equal to 43,560 square feet.  \n",
    "\n",
    "Write a python program that accepts the measure of land in square feet and returns the measure in acres.\n",
    "\n",
    "\n",
    "Sample Input: 875687\n",
    "\n",
    "Sample Output: 20.10"
   ]
  },
  {
   "cell_type": "code",
   "execution_count": 1,
   "metadata": {},
   "outputs": [
    {
     "name": "stdout",
     "output_type": "stream",
     "text": [
      "Enter the measure of land in square feet: 875687\n",
      "The land in acres is:  20.1\n"
     ]
    }
   ],
   "source": [
    "sq_feet=int(input('Enter the measure of land in square feet: '))\n",
    "acre=sq_feet/43560\n",
    "print('The land in acres is: ',round(acre,2))"
   ]
  },
  {
   "cell_type": "markdown",
   "metadata": {},
   "source": [
    "### 2. Fibonacci Series is computed based on the following formula:                                       \n",
    "\n",
    "f(n)=0 if n=0\n",
    "\n",
    "f(n)=1 if n=1\n",
    "\n",
    "f(n)=f(n-1)+f(n-2) if n>1\n",
    "\n",
    "Write a program using list comprehension to print the Fibonacci Sequence in the comma-separated form with a given n input by \n",
    "\n",
    "user input.\n",
    "\n",
    "Sample input: 5\n",
    "\n",
    "Output:  \t0,1,1,2,\n"
   ]
  },
  {
   "cell_type": "code",
   "execution_count": 2,
   "metadata": {},
   "outputs": [
    {
     "name": "stdout",
     "output_type": "stream",
     "text": [
      "Enter the number of elements: 5\n",
      "0,1,1,2\n"
     ]
    }
   ],
   "source": [
    "def f(n):\n",
    "    if n==0:\n",
    "        return 0\n",
    "    elif n==1:\n",
    "        return 1\n",
    "    else:\n",
    "        return f(n-1)+f(n-2)\n",
    "n=int(input('Enter the number of elements: '))\n",
    "fib_series=[str(f(x)) for x in range(0,n-1)]\n",
    "print(\",\".join(fib_series))"
   ]
  },
  {
   "cell_type": "markdown",
   "metadata": {
    "colab_type": "text",
    "id": "S3SRojUJ4Wmv"
   },
   "source": [
    "### 3.Professor told the student that Today is Thursday. what day of the week will it be in 46 days of time from today (Thursday)? "
   ]
  },
  {
   "cell_type": "code",
   "execution_count": 3,
   "metadata": {},
   "outputs": [
    {
     "name": "stdout",
     "output_type": "stream",
     "text": [
      "Enter the number of days: 46\n",
      "The day of the week 46 days from today is Monday\n"
     ]
    }
   ],
   "source": [
    "list_of_days=['Sunday','Monday','Tuesday','Wednesday','Thursday','Friday','Saturday']\n",
    "present_day='Thursday'\n",
    "num_of_days=int(input('Enter the number of days: '))\n",
    "remaining_days=num_of_days%7\n",
    "index_of_day=(list_of_days.index('Thursday')+remaining_days)\n",
    "if index_of_day > 6:\n",
    "    print('The day of the week',num_of_days,'days from today is',list_of_days[index_of_day-7])\n",
    "else:\n",
    "    print('The day of the week',num_of_days,'days from today is',list_of_days[index_of_day])"
   ]
  },
  {
   "cell_type": "markdown",
   "metadata": {
    "colab_type": "text",
    "id": "2z169KcQ4Wnp"
   },
   "source": [
    "### 4. Given a string s find the number of white spaces in the given strings.\n",
    "  \n",
    " Input Format\n",
    " \n",
    " Take Input String S\n",
    " \n",
    " Output Format\n",
    " \n",
    " Number Of White Spaces In S\n",
    " \n",
    " Constraints\n",
    " 0 < S < 100001\n",
    "  \n",
    " \n",
    " SAMPLE INPUT\n",
    " \n",
    " Hello World\n",
    "  \n",
    " SAMPLE OUTPUT: 1"
   ]
  },
  {
   "cell_type": "code",
   "execution_count": 4,
   "metadata": {},
   "outputs": [
    {
     "name": "stdout",
     "output_type": "stream",
     "text": [
      "Enter the string: Hello World\n",
      "Number of white spaces 1\n"
     ]
    }
   ],
   "source": [
    "s=input('Enter the string: ')\n",
    "print('Number of white spaces',s.count(\" \"))"
   ]
  },
  {
   "cell_type": "markdown",
   "metadata": {},
   "source": [
    "---------------------"
   ]
  },
  {
   "cell_type": "markdown",
   "metadata": {},
   "source": [
    "### 5 .Write a code to i) extract name elements alone, ii) multiply the number element by 6.07, iii) check whether the name element is carbon (use map). \n",
    "d=[{'name':'hydrogen','number':1,'weight':1.0},{'name':'carbon','number':2,'weight':4.002}]"
   ]
  },
  {
   "cell_type": "code",
   "execution_count": 5,
   "metadata": {},
   "outputs": [],
   "source": [
    "d=[{'name':'hydrogen','number':1,'weight':1.0},{'name':'carbon','number':2,'weight':4.002}]"
   ]
  },
  {
   "cell_type": "code",
   "execution_count": 6,
   "metadata": {},
   "outputs": [
    {
     "name": "stdout",
     "output_type": "stream",
     "text": [
      "hydrogen\n",
      "carbon\n"
     ]
    }
   ],
   "source": [
    "#i Name elements\n",
    "for i in range(len(d)):\n",
    "    print(d[i]['name'])"
   ]
  },
  {
   "cell_type": "code",
   "execution_count": 7,
   "metadata": {},
   "outputs": [
    {
     "name": "stdout",
     "output_type": "stream",
     "text": [
      "6.07\n",
      "12.14\n"
     ]
    }
   ],
   "source": [
    "#ii multiplying number elements by 2\n",
    "for i in range(len(d)):\n",
    "    print(d[i]['number']*6.07)"
   ]
  },
  {
   "cell_type": "code",
   "execution_count": 8,
   "metadata": {},
   "outputs": [
    {
     "name": "stdout",
     "output_type": "stream",
     "text": [
      "[False, True]\n"
     ]
    }
   ],
   "source": [
    "#iii checking whether the name element is carbon or not\n",
    "l1=[]\n",
    "for i in range(len(d)):\n",
    "    l1.append(d[i]['name'])\n",
    "var=map(lambda x: x=='carbon',l1)\n",
    "print(list(var))"
   ]
  },
  {
   "cell_type": "code",
   "execution_count": 9,
   "metadata": {},
   "outputs": [],
   "source": [
    "#if carbon is present it prints true else it will print false."
   ]
  },
  {
   "cell_type": "markdown",
   "metadata": {},
   "source": [
    "### 6.Python program which accepts 4 digit binary numbers input = 0100,0011,1010,1001. Convert them in to decimal numbers and check whether it will check divisible by 5 ?  \n"
   ]
  },
  {
   "cell_type": "code",
   "execution_count": 10,
   "metadata": {},
   "outputs": [
    {
     "name": "stdout",
     "output_type": "stream",
     "text": [
      "Enter a 4 digit binary number: 0100,0011,1010,1001\n",
      "The decimal numbers are [4, 3, 10, 9]\n",
      "The number that is divisible by 5 is 10\n"
     ]
    }
   ],
   "source": [
    "binary=list(map(str,input('Enter a 4 digit binary number: ').split(\",\")))\n",
    "if len(binary)==4:\n",
    "    l=[]\n",
    "    for i in binary:\n",
    "        l.append(int(i,2))\n",
    "    print('The decimal numbers are',l)\n",
    "    for j in l:\n",
    "        if(j%5==0):\n",
    "            print('The number that is divisible by 5 is',j)\n",
    "            \n",
    "else:\n",
    "    print('Wrong input,Enter a 4-digit binary number only..')"
   ]
  },
  {
   "cell_type": "markdown",
   "metadata": {},
   "source": [
    " _________________"
   ]
  },
  {
   "cell_type": "markdown",
   "metadata": {},
   "source": [
    "### 7 .Write a Python Program to swap the first and last elements in the list? \n",
    "\n",
    "    A. Get the input count of \"number of elements in a list\"\n",
    "    B. Get the input of the elements one by one and create a list\n",
    "    C. Create a program to swap the first and last elements in the list\n",
    "    D. Display the results of the list before and after"
   ]
  },
  {
   "cell_type": "code",
   "execution_count": 11,
   "metadata": {},
   "outputs": [
    {
     "name": "stdout",
     "output_type": "stream",
     "text": [
      "Enter the number of elements in a list: 4\n",
      "Enter the elements: 1\n",
      "Enter the elements: 2\n",
      "Enter the elements: 3\n",
      "Enter the elements: 4\n",
      "The list before swapping is [1, 2, 3, 4]\n",
      "The list after swapping is  [4, 2, 3, 1]\n"
     ]
    }
   ],
   "source": [
    "n=int(input('Enter the number of elements in a list: '))\n",
    "l=[]\n",
    "for i in range(n):\n",
    "    ele=int(input('Enter the elements: '))\n",
    "    l.append(ele)\n",
    "def swap(x):\n",
    "    size=len(x)\n",
    "    temp=x[0]\n",
    "    x[0]=x[size-1]\n",
    "    x[size-1]=temp\n",
    "    return x\n",
    "print('The list before swapping is',l)\n",
    "print('The list after swapping is ',swap(l))"
   ]
  },
  {
   "cell_type": "markdown",
   "metadata": {
    "colab_type": "text",
    "id": "RYzl6Uxso9NV"
   },
   "source": [
    "### 8. Python Program With removing all duplicate and give the original order reserved in Given List = [12,6,4,7,4,7,67,88,99,355,7887,6,467,88,4,77,8]? "
   ]
  },
  {
   "cell_type": "code",
   "execution_count": 12,
   "metadata": {},
   "outputs": [
    {
     "name": "stdout",
     "output_type": "stream",
     "text": [
      "The list after removing duplicates is [12, 6, 4, 7, 67, 88, 99, 355, 7887, 467, 77, 8]\n"
     ]
    }
   ],
   "source": [
    "Given_list=[12,6,4,7,4,7,67,88,99,355,7887,6,467,88,4,77,8]\n",
    "l=[]\n",
    "for i in Given_list:\n",
    "    if i not in l:\n",
    "        l.append(i)\n",
    "print('The list after removing duplicates is',l)"
   ]
  },
  {
   "cell_type": "markdown",
   "metadata": {
    "colab_type": "text",
    "id": "RYzl6Uxso9NV"
   },
   "source": [
    "### 9. We have two Sensors in a wind turbine, a and b, and the parameters a_sensor and b_sensor indicate if each has a signal. We are in trouble if they are both ON or if neither of them is ON. Return True if we are in trouble.Test it using a_sensor as True and b_sensor as False \n",
    "   "
   ]
  },
  {
   "cell_type": "code",
   "execution_count": 13,
   "metadata": {},
   "outputs": [
    {
     "data": {
      "text/plain": [
       "False"
      ]
     },
     "execution_count": 13,
     "metadata": {},
     "output_type": "execute_result"
    }
   ],
   "source": [
    "def testing(a_sensor,b_sensor):\n",
    "    if(a_sensor and b_sensor) or (not a_sensor and not b_sensor):\n",
    "        return True\n",
    "    else:\n",
    "        return False\n",
    "testing(True,False)"
   ]
  },
  {
   "cell_type": "code",
   "execution_count": null,
   "metadata": {},
   "outputs": [],
   "source": []
  }
 ],
 "metadata": {
  "colab": {
   "collapsed_sections": [],
   "name": "ITP_MID_1.ipynb",
   "provenance": []
  },
  "kernelspec": {
   "display_name": "Python 3",
   "language": "python",
   "name": "python3"
  },
  "language_info": {
   "codemirror_mode": {
    "name": "ipython",
    "version": 3
   },
   "file_extension": ".py",
   "mimetype": "text/x-python",
   "name": "python",
   "nbconvert_exporter": "python",
   "pygments_lexer": "ipython3",
   "version": "3.7.6"
  }
 },
 "nbformat": 4,
 "nbformat_minor": 1
}
