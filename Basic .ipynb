{
 "cells": [
  {
   "cell_type": "markdown",
   "metadata": {},
   "source": [
    "#### 1.  Python Program to exchange the values of two numbers without using a temporary variable. "
   ]
  },
  {
   "cell_type": "code",
   "execution_count": 1,
   "metadata": {},
   "outputs": [
    {
     "name": "stdout",
     "output_type": "stream",
     "text": [
      "a=1\n",
      "b=2\n",
      "a=2 b=1\n"
     ]
    }
   ],
   "source": [
    "a=input('a=')\n",
    "b=input('b=')\n",
    "a,b=b,a\n",
    "print('a={} b={}'.format(a,b))"
   ]
  },
  {
   "cell_type": "markdown",
   "metadata": {},
   "source": [
    "##### Code Explanation"
   ]
  },
  {
   "cell_type": "markdown",
   "metadata": {},
   "source": [
    "1. Get the variables a and b using runtime\n",
    "2. Apply Multiple variable, multiple assignment and swap the values\n",
    "3. Print the original and Desired output for display and validate the results.\n",
    "4. Desired output should be swapped values without using temp variable.\n"
   ]
  },
  {
   "cell_type": "markdown",
   "metadata": {},
   "source": [
    "#### 2. Write a python code to replace all  \"a\"  with 2 for the given variable\n"
   ]
  },
  {
   "cell_type": "code",
   "execution_count": 4,
   "metadata": {},
   "outputs": [
    {
     "name": "stdout",
     "output_type": "stream",
     "text": [
      "Enter a string : amigo\n",
      "2migo\n"
     ]
    }
   ],
   "source": [
    "s=input('Enter a string : ')\n",
    "print(s.replace('a','2'))"
   ]
  },
  {
   "cell_type": "markdown",
   "metadata": {},
   "source": [
    "#### 3. Python code for to  remove first character in string?"
   ]
  },
  {
   "cell_type": "code",
   "execution_count": 6,
   "metadata": {},
   "outputs": [
    {
     "name": "stdout",
     "output_type": "stream",
     "text": [
      "Enter a string : great learning\n"
     ]
    },
    {
     "data": {
      "text/plain": [
       "'reat learning'"
      ]
     },
     "execution_count": 6,
     "metadata": {},
     "output_type": "execute_result"
    }
   ],
   "source": [
    "s=input('Enter a string : ')\n",
    "s[1::]"
   ]
  },
  {
   "cell_type": "markdown",
   "metadata": {},
   "source": [
    "#### 4. Concatenate two strings  \n",
    "#### desired output :   \"Great Learning\""
   ]
  },
  {
   "cell_type": "code",
   "execution_count": 8,
   "metadata": {},
   "outputs": [
    {
     "name": "stdout",
     "output_type": "stream",
     "text": [
      "Great Learning\n"
     ]
    }
   ],
   "source": [
    "first_nm = \"Great\"\n",
    "last_nm = \"Learning\"\n",
    "print(first_nm+' '+last_nm)\n"
   ]
  },
  {
   "cell_type": "markdown",
   "metadata": {},
   "source": [
    "#### 5. Repeat the string \" Great Learning 3 times \n",
    "#### desired output :  'Great Learning Great Learning Great Learning '"
   ]
  },
  {
   "cell_type": "code",
   "execution_count": 10,
   "metadata": {},
   "outputs": [
    {
     "data": {
      "text/plain": [
       "'Great Learning Great Learning Great Learning '"
      ]
     },
     "execution_count": 10,
     "metadata": {},
     "output_type": "execute_result"
    }
   ],
   "source": [
    "'Great Learning '*3"
   ]
  },
  {
   "cell_type": "markdown",
   "metadata": {},
   "source": [
    "#### 6.  Create 3 variables a1,a2,a3 and assign the same values \" 4 \" to all the variables"
   ]
  },
  {
   "cell_type": "code",
   "execution_count": 12,
   "metadata": {},
   "outputs": [],
   "source": [
    "a1=a2=a3=4"
   ]
  },
  {
   "cell_type": "markdown",
   "metadata": {},
   "source": [
    "#### 7. The height and weight of a person and calculate BMI of a person?\n"
   ]
  },
  {
   "cell_type": "code",
   "execution_count": 13,
   "metadata": {},
   "outputs": [
    {
     "name": "stdout",
     "output_type": "stream",
     "text": [
      "Enter the Weight in kgs: 65\n",
      "Enter the Height in meters: 1.2\n",
      "BMI is 45.14 kg/m^2\n"
     ]
    }
   ],
   "source": [
    "w=float(input('Enter the Weight in kgs: '))\n",
    "h=float(input('Enter the Height in meters: '))\n",
    "bmi=w/(h**2)\n",
    "print('BMI is %0.2f kg/m^2'%bmi)"
   ]
  },
  {
   "cell_type": "markdown",
   "metadata": {},
   "source": [
    "#### 8.Formula area of circle = pi * r square"
   ]
  },
  {
   "cell_type": "code",
   "execution_count": 14,
   "metadata": {},
   "outputs": [
    {
     "name": "stdout",
     "output_type": "stream",
     "text": [
      "Radius in meters: 2\n",
      "Area of circle is 12.56 m^2\n"
     ]
    }
   ],
   "source": [
    "r=float(input('Radius in meters: '))\n",
    "pi=3.14\n",
    "area_of_circle=pi*(r**2)\n",
    "print('Area of circle is {} m^2'.format(area_of_circle))"
   ]
  },
  {
   "cell_type": "markdown",
   "metadata": {},
   "source": [
    "#### 9.Calculate the simple interest\n",
    "#### simple_interest = p * n * r /100"
   ]
  },
  {
   "cell_type": "code",
   "execution_count": 15,
   "metadata": {},
   "outputs": [
    {
     "name": "stdout",
     "output_type": "stream",
     "text": [
      "Enter the principle amount in rupees:10000\n",
      "Enter the time in years :2\n",
      "Enter the rate in percentage per year :11\n",
      "Simple interest is 2200.0Rs\n"
     ]
    }
   ],
   "source": [
    "p=float(input('Enter the principle amount in rupees:'))\n",
    "n=float(input('Enter the time in years :'))\n",
    "r=float(input('Enter the rate in percentage per year :'))\n",
    "si=(p*n*r)/100\n",
    "print('Simple interest is {}Rs'.format(si))"
   ]
  },
  {
   "cell_type": "markdown",
   "metadata": {},
   "source": [
    "#### 10.Python code to calculate the square root of the given number(run time variable)"
   ]
  },
  {
   "cell_type": "code",
   "execution_count": 17,
   "metadata": {},
   "outputs": [
    {
     "name": "stdout",
     "output_type": "stream",
     "text": [
      "enter a number 16\n",
      "The square root is 4.00\n"
     ]
    }
   ],
   "source": [
    "n=float(input('enter a number '))\n",
    "sqrt=n**(0.5)\n",
    "print('The square root is %0.2f'%sqrt)"
   ]
  },
  {
   "cell_type": "markdown",
   "metadata": {},
   "source": [
    "### IF Statement "
   ]
  },
  {
   "cell_type": "markdown",
   "metadata": {},
   "source": [
    "#### 1. x = 20 and y = 30. Write a pseudocode to find if x is less than y?"
   ]
  },
  {
   "cell_type": "markdown",
   "metadata": {},
   "source": [
    "# Pseudo code\n",
    "\n",
    "1.Assign x equal to 20\n",
    "2.Assign y equal to 30\n",
    "3.Compare the value of x and y using a if condition (x<y)\n",
    "4.If the condition is satisfied then 'x is lesser than y' is printed \n",
    " or else nothing will be printed on the screen.\n",
    " \n",
    " # inputs\n",
    " x and y\n",
    " # output\n",
    " x is lesser than y"
   ]
  },
  {
   "cell_type": "code",
   "execution_count": 18,
   "metadata": {},
   "outputs": [
    {
     "name": "stdout",
     "output_type": "stream",
     "text": [
      "x=20 is lesser than y=30\n"
     ]
    }
   ],
   "source": [
    "x,y=20,30\n",
    "if(x<y):\n",
    "    print('x={} is lesser than y={}'.format(x,y))"
   ]
  },
  {
   "cell_type": "markdown",
   "metadata": {},
   "source": [
    "# if-else Statement"
   ]
  },
  {
   "cell_type": "markdown",
   "metadata": {},
   "source": [
    "#### 1. Write a pseudocode to check if a student has passed a subject based on a string input (Yes, No)"
   ]
  },
  {
   "cell_type": "raw",
   "metadata": {},
   "source": [
    "## Pseudo code\n",
    "1. Obtain the marks of theory and practical from the user\n",
    "2. Assign total marks=sum of theory and practical marks\n",
    "3. If the total marks is lesser than 200 then print the total marks otherwise via a else statement ask the user to enter the correct marks.\n",
    "4.If the marks entered are correct then check if the total marks are above or below 40%, which is 80 according to our progra.\n",
    "5.If the total marks are below 80 then print the user has failed else print the user has passed.\n",
    "\n",
    "## inputs\n",
    "theory and practical\n",
    "\n",
    "##outputs\n",
    "Total marks\n"
   ]
  },
  {
   "cell_type": "code",
   "execution_count": 31,
   "metadata": {},
   "outputs": [
    {
     "name": "stdout",
     "output_type": "stream",
     "text": [
      "Enter the theory marks : 45\n",
      "Enter the practical marks : 55\n",
      "Total marks 100\n",
      "You have passed\n"
     ]
    }
   ],
   "source": [
    "theory=int(input('Enter the theory marks : '))\n",
    "practical=int(input('Enter the practical marks : '))\n",
    "tot=theory+practical\n",
    "if(tot<200):\n",
    "    print('Total marks',tot)\n",
    "    if(tot<80):\n",
    "        print('You have failed')\n",
    "    else:\n",
    "        print('You have passed')\n",
    "else:\n",
    "    print('The marks you have entered is incorrect. Kindly enter the correct marks.')"
   ]
  },
  {
   "cell_type": "markdown",
   "metadata": {},
   "source": [
    "#### 2. Take the password as an input and check if it is equal to 'great'. Show a message accordingly. Write a pseudocode for this."
   ]
  },
  {
   "cell_type": "raw",
   "metadata": {},
   "source": [
    "##Pseudocode\n",
    "\n",
    "1. Obtain the password from the user as pwd\n",
    "2. By means of a if statement compare the password entered by the user with the original password 'great'\n",
    "3. If the condition is satisfied then print password accepted else print wrong password! Try again\n",
    "\n",
    "## Inputs\n",
    "pwd\n",
    "\n",
    "##Outputs\n",
    "valid or invalid\n"
   ]
  },
  {
   "cell_type": "code",
   "execution_count": 32,
   "metadata": {},
   "outputs": [
    {
     "name": "stdout",
     "output_type": "stream",
     "text": [
      "Enter the password : ello\n",
      "Wrong Password, Try Again!\n"
     ]
    }
   ],
   "source": [
    "pwd=input('Enter the password : ')\n",
    "if(pwd=='great'):\n",
    "    print('Password Accepted')\n",
    "else:\n",
    "    print('Wrong Password, Try Again!')"
   ]
  },
  {
   "cell_type": "markdown",
   "metadata": {},
   "source": [
    "## Nested if Statement"
   ]
  },
  {
   "cell_type": "raw",
   "metadata": {},
   "source": [
    "1. Based on the users age, divide them in to three groups \n",
    "Group 1 : Age <18 , Minors who are not eligible to work\n",
    "Group 2 : 18<Age<60 , ELigible to work\n",
    "Group 3 : >60, Too old to work as per govt. regulations. \n",
    "\n",
    "Write a pseudocode for the same"
   ]
  },
  {
   "cell_type": "code",
   "execution_count": 33,
   "metadata": {},
   "outputs": [
    {
     "name": "stdout",
     "output_type": "stream",
     "text": [
      "Enter the age : 45\n",
      "You are eligible to work.\n"
     ]
    }
   ],
   "source": [
    "age=int(input('Enter the age : '))\n",
    "if(age>=18):\n",
    "    if(age<=60):\n",
    "        print('You are eligible to work.')\n",
    "    else:\n",
    "        print('As per govt. regulations, You have exceeded the age limit to work.')\n",
    "else:\n",
    "    print('You are a Minor. Minors are not eligible to work.')"
   ]
  },
  {
   "cell_type": "markdown",
   "metadata": {},
   "source": [
    "# While Loop"
   ]
  },
  {
   "cell_type": "raw",
   "metadata": {},
   "source": [
    "1. Take an integer as input from the user and print all the numbers from 0 to that number in reverse order. \n",
    "\n",
    "Example : if the input is 3, the output should be\n",
    "3\n",
    "2\n",
    "1"
   ]
  },
  {
   "cell_type": "raw",
   "metadata": {},
   "source": [
    "##pseudo code\n",
    "\n",
    "1.Obtain the input from the user.\n",
    "2.Pass it through a while loop.\n",
    "3.Print the number and decrement it and print the result.\n",
    "\n",
    "##Input\n",
    "i\n",
    "\n",
    "##Output\n",
    "Numbers in reversed order"
   ]
  },
  {
   "cell_type": "code",
   "execution_count": 34,
   "metadata": {},
   "outputs": [
    {
     "name": "stdout",
     "output_type": "stream",
     "text": [
      "Enter the number : 3\n",
      "3\n",
      "2\n",
      "1\n",
      "0\n"
     ]
    }
   ],
   "source": [
    "i=int(input('Enter the number : '))\n",
    "while(i>=0):\n",
    "    print(i)\n",
    "    i-=1"
   ]
  },
  {
   "cell_type": "raw",
   "metadata": {},
   "source": [
    "2.  Write a pseudocode to find the squares of all the numbers based on an input. \n",
    "\n",
    "Example : If the input is 10, the output should be\n",
    "1*1 ,2*2 ,3*3...... 10*10?"
   ]
  },
  {
   "cell_type": "raw",
   "metadata": {},
   "source": [
    "##Pseudo code\n",
    "\n",
    "1.Obtain the number from the user.\n",
    "2.Pass it through a while loop.\n",
    "3.Print their squares an decrement and print the results.\n",
    "\n",
    "##Inputs\n",
    "n\n",
    "\n",
    "##Output\n",
    "i*i squares of numbers"
   ]
  },
  {
   "cell_type": "code",
   "execution_count": 36,
   "metadata": {},
   "outputs": [
    {
     "name": "stdout",
     "output_type": "stream",
     "text": [
      "Enter the number until which you ought to find the squares : 10\n",
      "1*1=1\n",
      "2*2=4\n",
      "3*3=9\n",
      "4*4=16\n",
      "5*5=25\n",
      "6*6=36\n",
      "7*7=49\n",
      "8*8=64\n",
      "9*9=81\n",
      "10*10=100\n"
     ]
    }
   ],
   "source": [
    "n=int(input('Enter the number until which you ought to find the squares : '))\n",
    "i=1\n",
    "while(i<=n):\n",
    "    print('{}*{}={}'.format(i,i,i*i))\n",
    "    i=i+1"
   ]
  },
  {
   "cell_type": "markdown",
   "metadata": {},
   "source": [
    "# FOR LOOP"
   ]
  },
  {
   "cell_type": "raw",
   "metadata": {},
   "source": [
    "1. Write a pseudocode to print the multiplication table of a given number.\n",
    "\n",
    "Example : if the number is 3, the output should print the below :  \n",
    "3 X 1 = 3\n",
    "3 X 2 = 6\n",
    "...\n",
    "3 X 10 =30"
   ]
  },
  {
   "cell_type": "raw",
   "metadata": {},
   "source": [
    "##Pseudo code\n",
    "\n",
    "1.Obtain the number from the user.\n",
    "2.Pass it through a for loop.\n",
    "3.Print their multiples.\n",
    "\n",
    "##Inputs\n",
    "n\n",
    "\n",
    "##Output\n",
    "i*n multiplication table of a number"
   ]
  },
  {
   "cell_type": "code",
   "execution_count": 37,
   "metadata": {},
   "outputs": [
    {
     "name": "stdout",
     "output_type": "stream",
     "text": [
      "Enter the number : 3\n",
      "3 x 1 = 3\n",
      "3 x 2 = 6\n",
      "3 x 3 = 9\n",
      "3 x 4 = 12\n",
      "3 x 5 = 15\n",
      "3 x 6 = 18\n",
      "3 x 7 = 21\n",
      "3 x 8 = 24\n",
      "3 x 9 = 27\n",
      "3 x 10 = 30\n"
     ]
    }
   ],
   "source": [
    "n=int(input('Enter the number : '))\n",
    "for i in range(1,11):\n",
    "    print(n,'x',i,'=',i*n)"
   ]
  },
  {
   "cell_type": "markdown",
   "metadata": {},
   "source": [
    "#### 2. Write a pseudocode to print squares of all numbers present in a list = [1, 12, 24, 36, 11, 20,50]\n"
   ]
  },
  {
   "cell_type": "code",
   "execution_count": null,
   "metadata": {},
   "outputs": [],
   "source": [
    "#Pseudo code\n",
    "\n",
    "1.Assign values to a list.\n",
    "2.Assign an empty list.\n",
    "3.Pass it through a for loop and append their squares to the empty list.\n",
    "3.Print the empty list.\n",
    "\n",
    "##Input\n",
    "l\n",
    "\n",
    "##Output\n",
    "l_new list of squares of another list"
   ]
  },
  {
   "cell_type": "code",
   "execution_count": 38,
   "metadata": {},
   "outputs": [
    {
     "name": "stdout",
     "output_type": "stream",
     "text": [
      "[1, 144, 576, 1296, 121, 400, 2500]\n"
     ]
    }
   ],
   "source": [
    "l=[1, 12, 24, 36, 11, 20,50]\n",
    "l_new=[]\n",
    "for i in l:\n",
    "    l_new.append(i**2)\n",
    "print(l_new)"
   ]
  },
  {
   "cell_type": "code",
   "execution_count": null,
   "metadata": {},
   "outputs": [],
   "source": []
  }
 ],
 "metadata": {
  "kernelspec": {
   "display_name": "Python 3",
   "language": "python",
   "name": "python3"
  },
  "language_info": {
   "codemirror_mode": {
    "name": "ipython",
    "version": 3
   },
   "file_extension": ".py",
   "mimetype": "text/x-python",
   "name": "python",
   "nbconvert_exporter": "python",
   "pygments_lexer": "ipython3",
   "version": "3.7.6"
  }
 },
 "nbformat": 4,
 "nbformat_minor": 2
}
