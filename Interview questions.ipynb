{
 "cells": [
  {
   "cell_type": "code",
   "execution_count": 2,
   "metadata": {},
   "outputs": [
    {
     "name": "stdout",
     "output_type": "stream",
     "text": [
      "Enter a number:343\n",
      "The sum is: 10\n"
     ]
    }
   ],
   "source": [
    "# 1) a) Sum of digits\n",
    "# i/p:123 \n",
    "# o/P: 6\n",
    "\n",
    "n=int(input('Enter a number:'))#sum of digits\n",
    "s=0\n",
    "while(n>0):\n",
    "    d=n%10\n",
    "    s=s+d\n",
    "    n=n//10\n",
    "print('The sum is:',s)"
   ]
  },
  {
   "cell_type": "code",
   "execution_count": 7,
   "metadata": {},
   "outputs": [
    {
     "name": "stdout",
     "output_type": "stream",
     "text": [
      "Enter the number:99\n",
      "99 is not a prime number\n"
     ]
    }
   ],
   "source": [
    "# 1) b) Check whether a given number is prime number or not\n",
    "# i/p: 11\n",
    "# o/p: prime number\n",
    "\n",
    "# i/p: 10\n",
    "# o/p: not prime number\n",
    "\n",
    "n=int(input('Enter the number:'))\n",
    "if(n<=1):\n",
    "    print(n,'is not a prime number')\n",
    "elif(n>0):\n",
    "    for i in range(2,n):\n",
    "        if(n%i==0):\n",
    "            print(n,'is not a prime number')\n",
    "            break\n",
    "            \n",
    "    else:\n",
    "        print(n,'is a prime number')\n",
    "        "
   ]
  },
  {
   "cell_type": "code",
   "execution_count": 10,
   "metadata": {},
   "outputs": [
    {
     "name": "stdout",
     "output_type": "stream",
     "text": [
      "Enter a string: hello\n",
      "Not a palindrome\n"
     ]
    }
   ],
   "source": [
    "# 1) c) Check whether the given string is palindrome or not\n",
    "# i/p: malayalam\n",
    "# o/p: palindrome\n",
    "\n",
    "# i/p: hello\n",
    "# o/p: not a plaindrome\n",
    "\n",
    "s=input('Enter a string: ')\n",
    "if(s==s[::-1]):\n",
    "    print(\"It's a palidrome\")\n",
    "else:\n",
    "    print('Not a palindrome')\n",
    "    "
   ]
  },
  {
   "cell_type": "code",
   "execution_count": 15,
   "metadata": {},
   "outputs": [
    {
     "name": "stdout",
     "output_type": "stream",
     "text": [
      "Enter the number of elements: 7\n",
      "1\n",
      "2\n",
      "2\n",
      "3\n",
      "3\n",
      "4\n",
      "4\n",
      "[1, 2, 2, 3, 3, 4, 4]\n"
     ]
    }
   ],
   "source": [
    "# 1) d) Doing the following operation in List:\n",
    "# i) count the individual elements\n",
    "# ii) remove duplicates \n",
    "# iii) insert element is the given index\n",
    "# iv) reverse a list\n",
    "\n",
    "l=[]\n",
    "n=int(input('Enter the number of elements: '))\n",
    "for i in range(0,n):\n",
    "    ele=int(input())\n",
    "    l.append(ele)\n",
    "print(l)"
   ]
  },
  {
   "cell_type": "code",
   "execution_count": 16,
   "metadata": {},
   "outputs": [
    {
     "data": {
      "text/plain": [
       "7"
      ]
     },
     "execution_count": 16,
     "metadata": {},
     "output_type": "execute_result"
    }
   ],
   "source": [
    "len(l)"
   ]
  },
  {
   "cell_type": "code",
   "execution_count": 17,
   "metadata": {},
   "outputs": [],
   "source": [
    "a=set(l)"
   ]
  },
  {
   "cell_type": "code",
   "execution_count": 18,
   "metadata": {},
   "outputs": [
    {
     "data": {
      "text/plain": [
       "{1, 2, 3, 4}"
      ]
     },
     "execution_count": 18,
     "metadata": {},
     "output_type": "execute_result"
    }
   ],
   "source": [
    "a"
   ]
  },
  {
   "cell_type": "code",
   "execution_count": 19,
   "metadata": {},
   "outputs": [],
   "source": [
    "l.insert(1,2)"
   ]
  },
  {
   "cell_type": "code",
   "execution_count": 20,
   "metadata": {},
   "outputs": [
    {
     "data": {
      "text/plain": [
       "[1, 2, 2, 2, 3, 3, 4, 4]"
      ]
     },
     "execution_count": 20,
     "metadata": {},
     "output_type": "execute_result"
    }
   ],
   "source": [
    "l"
   ]
  },
  {
   "cell_type": "code",
   "execution_count": 21,
   "metadata": {},
   "outputs": [],
   "source": [
    "l.reverse()"
   ]
  },
  {
   "cell_type": "code",
   "execution_count": 22,
   "metadata": {},
   "outputs": [
    {
     "data": {
      "text/plain": [
       "[4, 4, 3, 3, 2, 2, 2, 1]"
      ]
     },
     "execution_count": 22,
     "metadata": {},
     "output_type": "execute_result"
    }
   ],
   "source": [
    "l"
   ]
  },
  {
   "cell_type": "code",
   "execution_count": 3,
   "metadata": {},
   "outputs": [
    {
     "name": "stdout",
     "output_type": "stream",
     "text": [
      "Enter the number of elements of the list : 5\n",
      "1\n",
      "2\n",
      "3\n",
      "4\n",
      "5\n",
      "The list is : [1, 2, 3, 4, 5]\n",
      "The average is 3\n"
     ]
    }
   ],
   "source": [
    "# 1) e) Find the middle value of given list(only number).\n",
    "# i/p=[1,2,3,4,5]        \n",
    "# o/p=3\n",
    "\n",
    "# i/p:[1,2,3,4]     # for even count,there will be two middle values(here it 3,4). Take the average of that two middle values(avg(3,4)=3.5)\n",
    "# o/p: 3.5\n",
    "\n",
    "n=int(input('Enter the number of elements of the list : '))\n",
    "l=[]\n",
    "for i in range(n):\n",
    "    ele=int(input())\n",
    "    l.append(ele)\n",
    "print('The list is :',l)\n",
    "\n",
    "if(n%2==0):\n",
    "        me1=((n//2)-1)\n",
    "        me2=((n//2))\n",
    "        s=l[me1]+l[me2]\n",
    "        avg=s/2\n",
    "        print('The mid elements here are {} and {}'.format(l[me1],l[me2]))\n",
    "        print('The average is',avg)\n",
    "else:\n",
    "    me=((n-1)//2)\n",
    "    avg=l[me]\n",
    "    print('The average is',avg)\n",
    "    "
   ]
  },
  {
   "cell_type": "code",
   "execution_count": 9,
   "metadata": {},
   "outputs": [],
   "source": [
    "##### 2) Create a password checker. Get username and password from user\n",
    "\n",
    "# Rule to be followed\n",
    "\n",
    "# 1) Minimum 8 characters\n",
    "# 2) Should be a Alphanumeric(aleast one alphabet and one number)\n",
    "# 3) Should contain minimum 1 special Character -[!@#$%^&*]\n",
    "# 4) password should not be same as the username\n",
    "\n",
    "# If password satisfies all the condition, print password is valid, if it not satisying, print the condition which are not satisfying.\n",
    "\n",
    "# Input : username : greatlearning\n",
    "#         password : abc1\n",
    "\n",
    "# Output :\n",
    "#          Password is invalid\n",
    "#          Reason:\n",
    "#          Should contain minimum 8 characters\n",
    "#          Should contain minimum 1 special Character -[!@#$%^&*]\n",
    "\n",
    "\n",
    "\n",
    "# Input : username : greatlearning\n",
    "#         password : abc123@\n",
    "\n",
    "# Output :\n",
    "#          Password is invalid\n",
    "#          Reason:\n",
    "#          Should contain minimum 8 characters\n",
    "\n",
    "# Input : username : greatlearning\n",
    "#         password : greatlearning\n",
    "\n",
    "# Output :\n",
    "#          Password is invalid\n",
    "#          Reason:\n",
    "#          Should be a Alphanumeric(aleast one alphabet and one number)\n",
    "#          Should contain minimum 1 special Character -[!@#$%^&*]\n",
    "#          Password should not be same as the username\n",
    "\n",
    "# Input : username : greatlearning\n",
    "#         password : great123!#\n",
    "\n",
    "# Output : \n",
    "#         Password is valid         \n"
   ]
  },
  {
   "cell_type": "code",
   "execution_count": null,
   "metadata": {},
   "outputs": [],
   "source": []
  },
  {
   "cell_type": "code",
   "execution_count": 22,
   "metadata": {},
   "outputs": [
    {
     "name": "stdout",
     "output_type": "stream",
     "text": [
      "5\n",
      "*\n",
      "**\n",
      "***\n",
      "****\n",
      "*****\n"
     ]
    }
   ],
   "source": [
    "# 3) i) Solve the following patterns \n",
    "\n",
    "# Input Description:   row count\n",
    "\n",
    "# Input : 4\n",
    "\n",
    "# *\n",
    "# **\n",
    "# ***\n",
    "# ****\n",
    "\n",
    "i=1\n",
    "n=int(input())\n",
    "while(i<=n):\n",
    "    print(i*'*')\n",
    "    i=i+1\n",
    "\n"
   ]
  },
  {
   "cell_type": "code",
   "execution_count": 13,
   "metadata": {},
   "outputs": [
    {
     "name": "stdout",
     "output_type": "stream",
     "text": [
      "6\n",
      "\n",
      "*\n",
      "**\n",
      "***\n",
      "****\n",
      "*****\n"
     ]
    }
   ],
   "source": [
    "n=int(input())\n",
    "for i in range(0,n):\n",
    "    print(i*'*')\n"
   ]
  },
  {
   "cell_type": "code",
   "execution_count": 1,
   "metadata": {},
   "outputs": [
    {
     "name": "stdout",
     "output_type": "stream",
     "text": [
      "Enter the number of rows :5\n",
      "*\n",
      "**\n",
      "***\n",
      "****\n",
      "*****\n"
     ]
    }
   ],
   "source": [
    "n=int(input('Enter the number of rows :'))\n",
    "for i in range(0,n):\n",
    "    for j in range(0,i+1):\n",
    "        print('*',end='')\n",
    "    print()"
   ]
  },
  {
   "cell_type": "code",
   "execution_count": 2,
   "metadata": {},
   "outputs": [
    {
     "name": "stdout",
     "output_type": "stream",
     "text": [
      "Enter the number of rows :5\n",
      "*****\n",
      "****\n",
      "***\n",
      "**\n",
      "*\n"
     ]
    }
   ],
   "source": [
    "# 3) ii) Solve the following patterns \n",
    "\n",
    "# Input Description:   row count\n",
    "\n",
    "# Input : 4\n",
    "\n",
    "# ****\n",
    "# ***\n",
    "# **\n",
    "# *\n",
    "\n",
    "n=int(input('Enter the number of rows :'))\n",
    "for i in range(0,n):\n",
    "    for j in range(0,n-i):\n",
    "        print('*',end='')\n",
    "    print()"
   ]
  },
  {
   "cell_type": "code",
   "execution_count": 44,
   "metadata": {},
   "outputs": [
    {
     "name": "stdout",
     "output_type": "stream",
     "text": [
      "Enter the number of rows :4\n",
      "****\n",
      "***\n",
      "**\n",
      "*\n"
     ]
    }
   ],
   "source": [
    "n=int(input('Enter the number of rows :'))\n",
    "for i in range(0,n):\n",
    "    for j in range(i,n):\n",
    "        print('*',end='')\n",
    "    print()"
   ]
  },
  {
   "cell_type": "code",
   "execution_count": 18,
   "metadata": {},
   "outputs": [
    {
     "name": "stdout",
     "output_type": "stream",
     "text": [
      "4\n",
      "****\n",
      "***\n",
      "**\n",
      "*\n"
     ]
    }
   ],
   "source": [
    "n=1\n",
    "i=int(input())\n",
    "while(i>=n):\n",
    "    print(i*'*')\n",
    "    i=i-1"
   ]
  },
  {
   "cell_type": "code",
   "execution_count": 2,
   "metadata": {},
   "outputs": [
    {
     "name": "stdout",
     "output_type": "stream",
     "text": [
      "Enter the number of rows: 5\n",
      "* * * * * \n",
      "* * * *   \n",
      "* * *     \n",
      "* *       \n",
      "*         \n"
     ]
    }
   ],
   "source": [
    "n = int(input(\"Enter the number of rows: \"))\n",
    "for i in range(1,n+1):\n",
    "    for j in range(1,n+1):\n",
    "        if (j > n - i+1):\n",
    "            print(\" \",end = \" \")\n",
    "        else:\n",
    "            print(\"*\", end = \" \")\n",
    "    print()"
   ]
  },
  {
   "cell_type": "code",
   "execution_count": null,
   "metadata": {},
   "outputs": [],
   "source": [
    "# 3) iii) Solve the following patterns \n",
    "\n",
    "# Input Description:   row count\n",
    "\n",
    "# Input : 4\n",
    "\n",
    "#    *\n",
    "#   **\n",
    "#  ***\n",
    "# ****"
   ]
  },
  {
   "cell_type": "code",
   "execution_count": 18,
   "metadata": {},
   "outputs": [
    {
     "name": "stdout",
     "output_type": "stream",
     "text": [
      "Enter the number of rows :4\n",
      "   *\n",
      "  **\n",
      " ***\n",
      "****\n"
     ]
    }
   ],
   "source": [
    "n=int(input('Enter the number of rows :'))\n",
    "for i in range(1,n+1):\n",
    "    for j in range(1,n+1):\n",
    "        if(j<=n-i):\n",
    "            print(' ',end='')\n",
    "        else:\n",
    "            print('*',end='')\n",
    "    print()"
   ]
  },
  {
   "cell_type": "code",
   "execution_count": 5,
   "metadata": {},
   "outputs": [
    {
     "name": "stdout",
     "output_type": "stream",
     "text": [
      "Enter the number of rows :5\n",
      "     *\n",
      "    **\n",
      "   ***\n",
      "  ****\n",
      " *****\n"
     ]
    }
   ],
   "source": [
    "n=int(input('Enter the number of rows :'))\n",
    "for i in range(0,n):\n",
    "    for j in range(i,n):\n",
    "        print(' ',end='')\n",
    "    \n",
    "    for j in range(0,i+1):\n",
    "        print('*',end='')\n",
    "    print()"
   ]
  },
  {
   "cell_type": "code",
   "execution_count": 19,
   "metadata": {},
   "outputs": [
    {
     "name": "stdout",
     "output_type": "stream",
     "text": [
      "Enter the number of rows :4\n",
      "    * \n",
      "   * * \n",
      "  * * * \n",
      " * * * * \n"
     ]
    }
   ],
   "source": [
    "n=int(input('Enter the number of rows :'))\n",
    "for i in range(0,n):\n",
    "    for j in range(i,n):\n",
    "        print(' ',end='')\n",
    "    \n",
    "    for j in range(0,i+1):\n",
    "        print('* ',end='') #additionalspace\n",
    "    print()"
   ]
  },
  {
   "cell_type": "code",
   "execution_count": 14,
   "metadata": {},
   "outputs": [
    {
     "name": "stdout",
     "output_type": "stream",
     "text": [
      "* * * * * \n",
      "  * * * * \n",
      "    * * * \n",
      "      * * \n",
      "        * \n"
     ]
    }
   ],
   "source": [
    "# 3) iv) Solve the following patterns \n",
    "\n",
    "# Input Description:   row count\n",
    "\n",
    "# Input : 4\n",
    "\n",
    "# ****\n",
    "#  ***\n",
    "#   **\n",
    "#    *\n",
    "\n",
    "for i in range(1,n+1):\n",
    "    for j in range(1,n+1):\n",
    "        if(j>=i):\n",
    "            print('*',end=' ')\n",
    "        else:\n",
    "            print(' ',end=' ')\n",
    "    print()"
   ]
  },
  {
   "cell_type": "code",
   "execution_count": 15,
   "metadata": {},
   "outputs": [
    {
     "name": "stdout",
     "output_type": "stream",
     "text": [
      "Enter the number of rows :5\n",
      "*****\n",
      " ****\n",
      "  ***\n",
      "   **\n",
      "    *\n"
     ]
    }
   ],
   "source": [
    "n=int(input('Enter the number of rows :'))\n",
    "for i in range(0,n):\n",
    "    for j in range(0,i): #space\n",
    "        print(' ',end='')\n",
    "    \n",
    "    for j in range(i,n):\n",
    "        print('*',end='')\n",
    "    print()"
   ]
  },
  {
   "cell_type": "code",
   "execution_count": 18,
   "metadata": {},
   "outputs": [
    {
     "name": "stdout",
     "output_type": "stream",
     "text": [
      "Enter the number of rows :4\n",
      "* * * * \n",
      " * * * \n",
      "  * * \n",
      "   * \n"
     ]
    }
   ],
   "source": [
    "n=int(input('Enter the number of rows :'))\n",
    "for i in range(0,n):\n",
    "    for j in range(0,i): #space\n",
    "        print(' ',end='')\n",
    "    for j in range(i,n):\n",
    "        print('* ',end='')#additional space\n",
    "    print()"
   ]
  },
  {
   "cell_type": "code",
   "execution_count": 12,
   "metadata": {},
   "outputs": [
    {
     "name": "stdout",
     "output_type": "stream",
     "text": [
      "Enter the number of rows : 5\n",
      "                    1 \n",
      "                 1     1 \n",
      "              1     2     1 \n",
      "           1     3     3     1 \n",
      "        1     4     6     4     1 \n"
     ]
    }
   ],
   "source": [
    "# 3) v) Solve the following patterns (Pascal Traingle)\n",
    "\n",
    "# Input Description:   row count\n",
    "\n",
    "# Input : 4\n",
    "\n",
    "#    1\n",
    "#   1 1\n",
    "#  1 2 1\n",
    "# 1 3 3 1\n",
    "\n",
    "n=int(input('Enter the number of rows : '))\n",
    "a=[]\n",
    "for i in range(0,n):\n",
    "    a.append([])\n",
    "    a[i].append(1)\n",
    "    for j in range(1,i):\n",
    "        a[i].append(a[i-1][j-1]+a[i-1][j])\n",
    "    if(n!=0):\n",
    "        a[i].append(1)\n",
    "    \n",
    "for i in range(0,n):\n",
    "    print(\"   \"*(n-i),end=' ',sep=' ')\n",
    "    for j in range(0,i+1):\n",
    "        print('{0:5}'.format(a[i][j]),end=' ',sep=' ')\n",
    "    print()"
   ]
  },
  {
   "cell_type": "code",
   "execution_count": 29,
   "metadata": {},
   "outputs": [],
   "source": [
    "r=[1]\n",
    "y=[0]"
   ]
  },
  {
   "cell_type": "code",
   "execution_count": 30,
   "metadata": {},
   "outputs": [
    {
     "data": {
      "text/plain": [
       "[1, 0]"
      ]
     },
     "execution_count": 30,
     "metadata": {},
     "output_type": "execute_result"
    }
   ],
   "source": [
    "r+y"
   ]
  },
  {
   "cell_type": "code",
   "execution_count": 31,
   "metadata": {},
   "outputs": [
    {
     "data": {
      "text/plain": [
       "[0, 1]"
      ]
     },
     "execution_count": 31,
     "metadata": {},
     "output_type": "execute_result"
    }
   ],
   "source": [
    "y+r"
   ]
  },
  {
   "cell_type": "code",
   "execution_count": 32,
   "metadata": {},
   "outputs": [
    {
     "data": {
      "text/plain": [
       "[(1, 0), (0, 1)]"
      ]
     },
     "execution_count": 32,
     "metadata": {},
     "output_type": "execute_result"
    }
   ],
   "source": [
    "list(zip(r+y,y+r))"
   ]
  },
  {
   "cell_type": "code",
   "execution_count": 34,
   "metadata": {},
   "outputs": [
    {
     "name": "stdout",
     "output_type": "stream",
     "text": [
      "[1]\n",
      "[1, 1]\n",
      "[1, 2, 1]\n",
      "[1, 3, 3, 1]\n",
      "[1, 4, 6, 4, 1]\n"
     ]
    }
   ],
   "source": [
    "r=[1]\n",
    "y=[0]\n",
    "for i in range(n):\n",
    "    print(r)\n",
    "    r=[x+y for x,y in zip(r+y,y+r)]\n",
    "    "
   ]
  },
  {
   "cell_type": "code",
   "execution_count": null,
   "metadata": {},
   "outputs": [],
   "source": []
  },
  {
   "cell_type": "code",
   "execution_count": null,
   "metadata": {},
   "outputs": [],
   "source": []
  },
  {
   "cell_type": "code",
   "execution_count": null,
   "metadata": {},
   "outputs": [],
   "source": []
  },
  {
   "cell_type": "code",
   "execution_count": null,
   "metadata": {},
   "outputs": [],
   "source": []
  },
  {
   "cell_type": "code",
   "execution_count": 28,
   "metadata": {},
   "outputs": [],
   "source": [
    "# 3) vi) Solve the following patterns \n",
    "\n",
    "# Input Description:   row count\n",
    "\n",
    "# Input : 4\n",
    "\n",
    "# 1\n",
    "# 2 * 3\n",
    "# 4 * 5 * 6\n",
    "# 7 * 8 * 9 * 10\n",
    "\n"
   ]
  },
  {
   "cell_type": "code",
   "execution_count": null,
   "metadata": {},
   "outputs": [],
   "source": [
    "# 3) vii) Solve the following patterns \n",
    "\n",
    "# Input Description:   row count\n",
    "\n",
    "# Input : 4\n",
    "\n",
    "#      *\n",
    "#     * *\n",
    "#    * * *\n",
    "#   * * * *\n",
    "#    * * *\n",
    "#     * *\n",
    "#      *"
   ]
  },
  {
   "cell_type": "code",
   "execution_count": null,
   "metadata": {},
   "outputs": [],
   "source": [
    "# 3) viii) Solve the following patterns \n",
    "\n",
    "# Input Description:   row count\n",
    "\n",
    "# Input : 4\n",
    "\n",
    "# 1\n",
    "# 2 * 3\n",
    "# 4 * 5 * 6\n",
    "# 7 * 8 * 9 * 10\n",
    "# 4 * 5 * 6\n",
    "# 2 * 3\n",
    "# 1"
   ]
  },
  {
   "cell_type": "code",
   "execution_count": 1,
   "metadata": {},
   "outputs": [],
   "source": [
    "# 3) ix) Program to print the pattern ‘G’\n",
    "\n",
    "# Input Description : No of rows\n",
    "\n",
    "# Input : 7\n",
    "# Output :\n",
    "#   ***  \n",
    "#  *     \n",
    "#  *     \n",
    "#  * *** \n",
    "#  *   * \n",
    "#  *   * \n",
    "#   ***  \n"
   ]
  },
  {
   "cell_type": "code",
   "execution_count": null,
   "metadata": {},
   "outputs": [],
   "source": [
    "# 3) x) Solve the following patterns \n",
    "\n",
    "# Input Description:   row count (only odd)\n",
    "\n",
    "# Input : 5\n",
    "\n",
    "# Output:\n",
    "# 1 1 1 1 1\n",
    "# 0 0 1 0 0\n",
    "# 0 0 1 0 0\n",
    "# 0 0 1 0 0\n",
    "# 1 1 1 1 1"
   ]
  },
  {
   "cell_type": "code",
   "execution_count": null,
   "metadata": {},
   "outputs": [],
   "source": [
    "# 4) Cyclic rotation: \n",
    "\n",
    "# Case 1: first element moves to last and rest all the elements move one step to left  \n",
    "# Case 2: last element moves to first and rest all the element move  one step to right \n",
    "\n",
    "# Input 1 Decription: 1 - first to last  2- last to first\n",
    "\n",
    "# Input 2 Description : string\n",
    "\n",
    "# Input 3 Description : no of times\n",
    "\n",
    "# Input  :\n",
    "\n",
    "# 1\n",
    "# 'great'\n",
    "# 2\n",
    " \n",
    "# Output:\n",
    "    \n",
    "# reatg\n",
    "# eatgr\n",
    "\n",
    "# Input  :\n",
    "\n",
    "# 2\n",
    "# 'great'\n",
    "# 3\n",
    " \n",
    "# Output:\n",
    "    \n",
    "# tgrea\n",
    "# atgre"
   ]
  },
  {
   "cell_type": "markdown",
   "metadata": {},
   "source": [
    " 4)In a pathology lab test, there are n number of samples for testing the health condition of a patient,\n",
    "each slide has 5 components, Sugar level, Blood pressure, Heartbeat rate, weight and fat percentage,\n",
    "based on input as provided by the patient's blood report.\n",
    "\n",
    "1. Create a sample input for a healthy patient as follows:\n",
    "\n",
    "\"Sugar level\":15, \"Blood pressure\":32, \"Heartbeat rate\":71, \"weight\":65, \"fat percentage\":10.\n",
    "\n",
    "2. Get values from the user and compare inputs with healthy patient data. If the patient data is not matching with the healthy\n",
    "patient’s data, provide a warning.\n",
    "\n",
    "3. Provide difference in readings to the patient.\n",
    "\n",
    "Sample Output:\n",
    "\n",
    "Sugar level:56\n",
    "\n",
    "Blood pressure:120\n",
    "\n",
    "Heartbeat rate:45\n",
    "\n",
    "weight:67\n",
    "\n",
    "fat percentage:67\n",
    "\n",
    "{'Sugar level': -41, 'Blood pressure': -88, 'Heartbeat rate': 26, 'weight': -2, 'fat percentage': -57}\n",
    "\n",
    "Sugar level -41\n",
    "\n",
    "The sugar level is 41 less than the ideal value\n",
    "\n",
    "Blood pressure -88\n",
    "\n",
    "Blood pressure is 88 less than the ideal value\n",
    "\n",
    "Heartbeat rate 26\n",
    "\n",
    "Heartbeat rate is 26 more than the ideal value\n",
    "\n",
    "weight -2\n",
    "\n",
    "weight is 2 less than the ideal value\n",
    "\n",
    "fat percentage 57\n",
    "\n",
    "fat percentage is 57 less than the ideal value"
   ]
  },
  {
   "cell_type": "code",
   "execution_count": null,
   "metadata": {},
   "outputs": [],
   "source": [
    "s=int(input('Sugar level : '))\n",
    "b=int(input('Blood pressure : '))\n",
    "h=int(input('Heartbeat rate : '))\n",
    "w=int(input('Weight : '))\n",
    "f=int(input('Fat Percentage : '))"
   ]
  },
  {
   "cell_type": "code",
   "execution_count": 12,
   "metadata": {},
   "outputs": [
    {
     "name": "stdout",
     "output_type": "stream",
     "text": [
      "Enter the lower range : 1\n",
      "Enter the upper range : 100\n",
      "2 3 5 7 11 13 17 19 23 29 31 37 41 43 47 53 59 61 67 71 73 79 83 89 97 "
     ]
    }
   ],
   "source": [
    "# 5) a) Print the prime numbers between the given range\n",
    "\n",
    "# Input : 1 10\n",
    "\n",
    "# Output: \n",
    "#2,3,5,7\n",
    "\n",
    "n=int(input('Enter the lower range : '))\n",
    "m=int(input('Enter the upper range : '))\n",
    "for num in range(n,m):\n",
    "    if(num>1):\n",
    "        for i in range(2,num):\n",
    "            if(num%i==0):\n",
    "                break\n",
    "        else:\n",
    "            print(num,end=' ')"
   ]
  },
  {
   "cell_type": "code",
   "execution_count": 19,
   "metadata": {},
   "outputs": [
    {
     "name": "stdout",
     "output_type": "stream",
     "text": [
      "Enter the number you intend to check : 12\n",
      "12 is not an armstrong number\n"
     ]
    }
   ],
   "source": [
    "# b) Check whether the given number is Armstrong number or not\n",
    "\n",
    "# Armstrong number: 153 => 1^3+5^3+3^3=153 (If summing each digit to the power of number of digits results to the same number \n",
    "\n",
    "# then it is a arsmstrong number)\n",
    "\n",
    "# 1634 => 1^4+6^4+3^4+4^4 =1634         1^4 => digit^(number of digits)\n",
    "\n",
    "# Input : 1634\n",
    "\n",
    "#  Output : Armstrong number\n",
    "\n",
    "n=int(input('Enter the number you intend to check : '))\n",
    "m=n\n",
    "s=0\n",
    "order=len(str(n))\n",
    "while(n>0):\n",
    "    d=n%10\n",
    "    s=s+(d**order)\n",
    "    n=n//10\n",
    "if(s==m):\n",
    "    print('{} is an armstrong number'.format(m))\n",
    "else:\n",
    "    print('{} is not an armstrong number'.format(m))"
   ]
  },
  {
   "cell_type": "code",
   "execution_count": 4,
   "metadata": {},
   "outputs": [
    {
     "name": "stdout",
     "output_type": "stream",
     "text": [
      "4\n",
      "0b100\n"
     ]
    }
   ],
   "source": [
    "# c) Convert Decimal to binary\n",
    "\n",
    "# Input1 : 12\n",
    "\n",
    "# Output1 :1100\n",
    "\n",
    "# Input2 : 20\n",
    "\n",
    "# Output2 :10100\n",
    "\n",
    "n=int(input())\n",
    "print(bin(n))"
   ]
  },
  {
   "cell_type": "code",
   "execution_count": 11,
   "metadata": {},
   "outputs": [
    {
     "name": "stdout",
     "output_type": "stream",
     "text": [
      "Enter the number : 28\n",
      "Perfect number\n"
     ]
    }
   ],
   "source": [
    "# d) Find whether the given number is perfect number or not.\n",
    "\n",
    "# Any number can be perfect number in Python, if the sum of its positive divisors excluding the number itself is equal to that number.\n",
    "\n",
    "# For example, 6 is a perfect number in Python because 6 is divisible by 1, 2, 3 and 6. \n",
    "# So, the sum of these values are: 1+2+3 = 6 (Remember, we have to exclude the number itself. \n",
    "#That’s why we haven’t added 6 here). Some of the perfect numbers are 6, 28, 496, 8128 and 33550336 so on.\n",
    "\n",
    "# Input : 28\n",
    "\n",
    "# Output : Perfect number\n",
    "\n",
    "n=int(input('Enter the number : '))\n",
    "s=0\n",
    "for i in range(1,n):\n",
    "    if(n%i==0):\n",
    "        s=s+i\n",
    "if(n==s):\n",
    "    print('Perfect number')\n",
    "else:\n",
    "    print('Not a perfect number')\n",
    "        "
   ]
  },
  {
   "cell_type": "code",
   "execution_count": null,
   "metadata": {},
   "outputs": [],
   "source": []
  }
 ],
 "metadata": {
  "kernelspec": {
   "display_name": "Python 3",
   "language": "python",
   "name": "python3"
  },
  "language_info": {
   "codemirror_mode": {
    "name": "ipython",
    "version": 3
   },
   "file_extension": ".py",
   "mimetype": "text/x-python",
   "name": "python",
   "nbconvert_exporter": "python",
   "pygments_lexer": "ipython3",
   "version": "3.7.6"
  }
 },
 "nbformat": 4,
 "nbformat_minor": 2
}
