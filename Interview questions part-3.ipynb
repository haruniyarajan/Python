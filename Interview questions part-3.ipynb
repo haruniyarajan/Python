{
 "cells": [
  {
   "cell_type": "markdown",
   "metadata": {
    "colab_type": "text",
    "id": "iZgP7rro9Jtr"
   },
   "source": [
    "<span style=\"font-family: Arial; font-weight:bold;font-size:1.5em;color:#0a7a78;\">1.a.The e-commerce business vertical of Amazon – a multinational technology company based in Seattle, has determined that its annual profit is normally 33 percent of its total sales revenue. Write a python program that takes the sales revenue as user input and returns the profit for Amazon.\n",
    "\n",
    "Sample Input: 65436\n",
    "\n",
    "Sample Output: $21,593.88 "
   ]
  },
  {
   "cell_type": "code",
   "execution_count": 13,
   "metadata": {
    "colab": {},
    "colab_type": "code",
    "id": "nzFHpur19Jts"
   },
   "outputs": [
    {
     "name": "stdout",
     "output_type": "stream",
     "text": [
      "Enter the sales revenue : 65436\n",
      "The profit is $21593.88\n"
     ]
    }
   ],
   "source": [
    "sales_revenue=float(input('Enter the sales revenue : '))\n",
    "profit=(sales_revenue*33)/100\n",
    "print('The profit is ${}'.format(profit))"
   ]
  },
  {
   "cell_type": "markdown",
   "metadata": {
    "colab_type": "text",
    "id": "_cRmkDDa9Jtw"
   },
   "source": [
    "## <span style=\"font-family: Arial; font-weight:bold;font-size:1.5em;color:#0a7a78;\"> 1.b. Write a code snippet in python to swap two numbers without using a temporary variable and also without using any arithmetical operations. "
   ]
  },
  {
   "cell_type": "code",
   "execution_count": 3,
   "metadata": {
    "colab": {},
    "colab_type": "code",
    "id": "_wOXimSD9Jtx"
   },
   "outputs": [
    {
     "name": "stdout",
     "output_type": "stream",
     "text": [
      "a= 4\n",
      "b= 5\n",
      "a= 5\n",
      "b= 4\n"
     ]
    }
   ],
   "source": [
    "a=int(input('a= '))\n",
    "b=int(input('b= '))\n",
    "a,b=b,a\n",
    "print('a=',a)\n",
    "print('b=',b)"
   ]
  },
  {
   "cell_type": "markdown",
   "metadata": {
    "colab_type": "text",
    "id": "4hwFO1fu9Jt0"
   },
   "source": [
    "<span style=\"font-family: Arial; font-weight:bold;font-size:1.5em;color:#0a7a78;\">1.c. Print as follows \"The total amount to pay for 4 quantities of item no 200 is Rs. 50\" using the data given below \n",
    "\n",
    "qty = 4\n",
    "\n",
    "item_number = 200\n",
    "\n",
    "price = 50.00"
   ]
  },
  {
   "cell_type": "code",
   "execution_count": 2,
   "metadata": {
    "colab": {},
    "colab_type": "code",
    "id": "jbtw4CYT9Jt0"
   },
   "outputs": [
    {
     "name": "stdout",
     "output_type": "stream",
     "text": [
      "The total amount to pay for 4 quantities of item no 200 is Rs.50\n"
     ]
    }
   ],
   "source": [
    "qty = 4\n",
    "item_number = 200\n",
    "price = 50.00\n",
    "print('The total amount to pay for {} quantities of item no {} is Rs.{}'.format(qty,item_number,int(price)))"
   ]
  },
  {
   "cell_type": "markdown",
   "metadata": {
    "colab_type": "text",
    "id": "szkSXeEf9Jt3"
   },
   "source": [
    "<span style=\"font-family: Arial; font-weight:bold;font-size:1.5em;color:#0a7a78;\"> 2.a. Write a python program to create a dictionary from the given list such that the key is the index and value is the corresponding element in the list. Use dictionary comprehension. \n",
    "    \n",
    "    nums = [4,2,2,1,3]\n"
   ]
  },
  {
   "cell_type": "code",
   "execution_count": 5,
   "metadata": {
    "colab": {},
    "colab_type": "code",
    "id": "INwfkqfk9Jt3"
   },
   "outputs": [
    {
     "name": "stdout",
     "output_type": "stream",
     "text": [
      "{0: 4, 1: 2, 2: 2, 3: 1, 4: 3}\n"
     ]
    }
   ],
   "source": [
    "nums = [4,2,2,1,3]\n",
    "dict={i:y for i,y in enumerate(nums)}\n",
    "print(dict)"
   ]
  },
  {
   "cell_type": "markdown",
   "metadata": {
    "colab_type": "text",
    "id": "L_oEGV6i9Jt6"
   },
   "source": [
    "<span style=\"font-family: Arial; font-weight:bold;font-size:1.5em;color:#0a7a78;\"> 2.b. Create another list from the given list without the duplicates. \n",
    "    \n",
    "list1 = [2,3,4,5, 6,5,6,7]\n"
   ]
  },
  {
   "cell_type": "code",
   "execution_count": 6,
   "metadata": {
    "colab": {},
    "colab_type": "code",
    "id": "QBIWaAaZ9Jt7"
   },
   "outputs": [
    {
     "name": "stdout",
     "output_type": "stream",
     "text": [
      "[2, 3, 4, 5, 6, 7]\n"
     ]
    }
   ],
   "source": [
    "list1 = [2,3,4,5, 6,5,6,7]\n",
    "list2=set(list1)\n",
    "list2=list(list2)\n",
    "print(list2)"
   ]
  },
  {
   "cell_type": "markdown",
   "metadata": {
    "colab_type": "text",
    "id": "MVk10MDB9Jt9"
   },
   "source": [
    "<span style=\"font-family: Arial; font-weight:bold;font-size:1.5em;color:#0a7a78;\"> 2.c. Two sets are given below. One set contains the name of players who played in World Cup 2011. The other set contains the name of players who played in World Cup 2015.       \n",
    "\n",
    "WCup2011 = {'Dhoni', 'Sehwag', 'Raina', 'Tendulkar', 'Gambhir', 'Kohli', 'Yuvraj', 'Yufsuf'}\n",
    "\n",
    "WCup2015 = {'Dhoni', 'Dhawan', 'Raina', 'Rohit', 'Rahane', 'Kohli', 'Jadeja', 'Rayudu'}\n",
    "\n",
    "Perform the following tasks.\n",
    "\n",
    "Find the list of all players who played in either the 2011 or 2015 World Cup.\n",
    "\n",
    "Find the list of players who played for both the 2011 and 2015 World Cup.\n",
    "\n"
   ]
  },
  {
   "cell_type": "code",
   "execution_count": 17,
   "metadata": {
    "colab": {},
    "colab_type": "code",
    "id": "bmk3AvFd9Jt-"
   },
   "outputs": [
    {
     "name": "stdout",
     "output_type": "stream",
     "text": [
      "{'Jadeja', 'Rohit', 'Rayudu', 'Rahane', 'Dhawan'}\n",
      "{'Jadeja', 'Tendulkar', 'Raina', 'Rohit', 'Yuvraj', 'Gambhir', 'Sehwag', 'Rayudu', 'Dhoni', 'Rahane', 'Yufsuf', 'Dhawan', 'Kohli'}\n"
     ]
    }
   ],
   "source": [
    "WCup2011 = {'Dhoni', 'Sehwag', 'Raina', 'Tendulkar', 'Gambhir', 'Kohli', 'Yuvraj', 'Yufsuf'}\n",
    "\n",
    "WCup2015 = {'Dhoni', 'Dhawan', 'Raina', 'Rohit', 'Rahane', 'Kohli', 'Jadeja', 'Rayudu'}\n",
    "print((WCup2011-WCup2015) and (WCup2015-WCup2011))\n",
    "print(WCup2011|WCup2015)"
   ]
  },
  {
   "cell_type": "markdown",
   "metadata": {
    "colab_type": "text",
    "id": "rZPy61BL9JuB"
   },
   "source": [
    "<span style=\"font-family: Arial; font-weight:bold;font-size:1.5em;color:#0a7a78;\"> 3. Write a program which accepts a range of numbers from the user and prints all the armstrong numbers in that given interval? \n",
    "\n",
    "Note :A number is called Armstrong number if it is equal to the sum of the cubes of its own digits.\n",
    "\n",
    "    For example: 407 is an Armstrong number since 407 = 4*4*4 + 0*0*0 + 7*7*7\n",
    "Output : Armstrong nos. in the given range (100,1000) - 153, 370, 371, 407"
   ]
  },
  {
   "cell_type": "code",
   "execution_count": 1,
   "metadata": {
    "colab": {},
    "colab_type": "code",
    "id": "m7Pz4vlR9JuB"
   },
   "outputs": [
    {
     "name": "stdout",
     "output_type": "stream",
     "text": [
      "Enter the lower range : 100\n",
      "Enter the upper range : 1000\n",
      "153\n",
      "370\n",
      "371\n",
      "407\n"
     ]
    }
   ],
   "source": [
    "n=int(input('Enter the lower range : '))\n",
    "m=int(input('Enter the upper range : '))\n",
    "for num in range(n,m+1):\n",
    "    s=0\n",
    "    order=len(str(num))\n",
    "    t=num\n",
    "    while(t>0):\n",
    "        d=t%10\n",
    "        s=s+d**(order)\n",
    "        t=t//10\n",
    "    if(num==s):\n",
    "        print(num)\n",
    "    "
   ]
  },
  {
   "cell_type": "markdown",
   "metadata": {
    "colab_type": "text",
    "id": "FJVVMN0g9JuE"
   },
   "source": [
    "<span style=\"font-family: Arial; font-weight:bold;font-size:1.5em;color:#0a7a78;\"> 4. A dictionary of names and their weights on earth is given. Find how much they will weigh on the moon. (Use map and lambda functions) \n",
    "\n",
    "Formula : wMoon = (wEarth * GMoon) / GEarth\n",
    "\n",
    "Weight of people in kg\n",
    "WeightOnEarth = {'John':45, 'Shelly':65, 'Marry':35}      \n",
    "\n",
    "Gravitational force on the Moon: 1.622 m/s2\n",
    "GMoon = 1.622                                              \n",
    "\n",
    "Gravitational force on the Earth: 9.81 m/s2\n",
    "GEarth = 9.81                                              \n",
    "Output: \n",
    "Weight on Moon:  {'John': 7.44, 'Shelly': 10.75, 'Marry': 5.79}\t\t\t\t\t\t\t       \n"
   ]
  },
  {
   "cell_type": "code",
   "execution_count": 8,
   "metadata": {
    "colab": {},
    "colab_type": "code",
    "id": "XqblMeiT9JuE"
   },
   "outputs": [
    {
     "name": "stdout",
     "output_type": "stream",
     "text": [
      "Weight on earth is {'John': 45, 'Shelly': 65, 'Marry': 35}\n",
      "Weight on moon {'John': 7.44, 'Shelly': 10.75, 'Marry': 5.79}\n"
     ]
    }
   ],
   "source": [
    "WEarth = {'John':45, 'Shelly':65, 'Marry':35} \n",
    "GMoon = 1.622 \n",
    "GEarth = 9.81\n",
    "m = lambda x: round(((x*GMoon)/GEarth),2)\n",
    "mw=list(map(m,WEarth.values()))\n",
    "l=WEarth.keys()\n",
    "m=mw\n",
    "d={}\n",
    "for i in l:\n",
    "    for j in mw:\n",
    "        d[i]=j\n",
    "        mw.remove(j)\n",
    "        break\n",
    "        \n",
    "print('Weight on earth is',WEarth)\n",
    "print('Weight on moon',d)"
   ]
  },
  {
   "cell_type": "markdown",
   "metadata": {
    "colab_type": "text",
    "id": "NFpjZUvM9Ju8"
   },
   "source": [
    "--------"
   ]
  },
  {
   "cell_type": "markdown",
   "metadata": {
    "colab_type": "text",
    "id": "gQOqA3XP9Ju9"
   },
   "source": [
    "--------"
   ]
  }
 ],
 "metadata": {
  "colab": {
   "name": "ITP-28-05-2020.ipynb",
   "provenance": []
  },
  "kernelspec": {
   "display_name": "Python 3",
   "language": "python",
   "name": "python3"
  },
  "language_info": {
   "codemirror_mode": {
    "name": "ipython",
    "version": 3
   },
   "file_extension": ".py",
   "mimetype": "text/x-python",
   "name": "python",
   "nbconvert_exporter": "python",
   "pygments_lexer": "ipython3",
   "version": "3.7.6"
  }
 },
 "nbformat": 4,
 "nbformat_minor": 1
}
