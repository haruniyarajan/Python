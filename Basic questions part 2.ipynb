{
 "cells": [
  {
   "cell_type": "markdown",
   "metadata": {},
   "source": [
    "#### 1. Take two inputs from user and check whether they are equal or not."
   ]
  },
  {
   "cell_type": "code",
   "execution_count": 3,
   "metadata": {},
   "outputs": [
    {
     "name": "stdout",
     "output_type": "stream",
     "text": [
      "great\n",
      "lakes\n",
      "Not equal\n"
     ]
    }
   ],
   "source": [
    "a=input()\n",
    "b=input()\n",
    "if(a==b):\n",
    "    print('Equal')\n",
    "else:\n",
    "    print('Not equal')"
   ]
  },
  {
   "cell_type": "markdown",
   "metadata": {},
   "source": [
    "#### 2. Take an single digit integer input from the user (3), print an output for (3+(33))\n"
   ]
  },
  {
   "cell_type": "code",
   "execution_count": 31,
   "metadata": {},
   "outputs": [
    {
     "name": "stdout",
     "output_type": "stream",
     "text": [
      "Enter a single digit number : 3\n",
      "3+33=36\n"
     ]
    }
   ],
   "source": [
    "a=input('Enter a single digit number : ')\n",
    "a1=int(a)\n",
    "a2=int('%s%s'%(a,a))\n",
    "print('{}+{}={}'.format(a1,a2,a1+a2))"
   ]
  },
  {
   "cell_type": "markdown",
   "metadata": {},
   "source": [
    "#### 3.  Write Python code to get a runtime variable as float and display as integer\n",
    "                   input: float number\n",
    "                   output: int number"
   ]
  },
  {
   "cell_type": "code",
   "execution_count": 7,
   "metadata": {},
   "outputs": [
    {
     "name": "stdout",
     "output_type": "stream",
     "text": [
      "Enter a number : 3.0\n",
      "3\n"
     ]
    }
   ],
   "source": [
    "a=float(input('Enter a number : '))\n",
    "print(int(a))"
   ]
  },
  {
   "cell_type": "code",
   "execution_count": null,
   "metadata": {},
   "outputs": [],
   "source": [
    "list(map(int, input().split(',')))"
   ]
  },
  {
   "cell_type": "markdown",
   "metadata": {},
   "source": [
    "### 4. Create a single string from a LIST of characters."
   ]
  },
  {
   "cell_type": "code",
   "execution_count": 12,
   "metadata": {},
   "outputs": [
    {
     "name": "stdout",
     "output_type": "stream",
     "text": [
      "enter the string: h,e,l,l,o\n",
      "['h', 'e', 'l', 'l', 'o']\n",
      "hello"
     ]
    }
   ],
   "source": [
    "l=list(map(str,input('enter the string: ').split(\",\")))\n",
    "print(l)\n",
    "for i in l:\n",
    "    print(i,end='')"
   ]
  },
  {
   "cell_type": "markdown",
   "metadata": {},
   "source": [
    "#### 5. Python Program to Convert Celsius To Fahrenheit\n",
    "#####  celsius * 1.8 = fahrenheit - 32"
   ]
  },
  {
   "cell_type": "code",
   "execution_count": 14,
   "metadata": {},
   "outputs": [
    {
     "name": "stdout",
     "output_type": "stream",
     "text": [
      "Enter the celsius: 32\n",
      "The fahrenheit is 89.6°F\n"
     ]
    }
   ],
   "source": [
    "c=int(input('Enter the celsius: '))\n",
    "f=(c*1.8)+32\n",
    "print('The fahrenheit is {}°F'.format(f))"
   ]
  },
  {
   "cell_type": "markdown",
   "metadata": {},
   "source": [
    "### 5. Get the number and print it reverse"
   ]
  },
  {
   "cell_type": "code",
   "execution_count": 17,
   "metadata": {},
   "outputs": [
    {
     "name": "stdout",
     "output_type": "stream",
     "text": [
      "Enter the number : 234\n",
      "The reversed number is  432\n"
     ]
    }
   ],
   "source": [
    "n=int(input('Enter the number : '))\n",
    "reverse=0\n",
    "while(n>0):\n",
    "    reminder=n%10\n",
    "    reverse=(reverse*10)+reminder\n",
    "    n=n//10\n",
    "print('The reversed number is ',reverse)\n",
    "\n"
   ]
  },
  {
   "cell_type": "markdown",
   "metadata": {},
   "source": [
    "### 6. Check if the given runtime variable nm = \"madam  is Palindrome without using loop, for validation output can be boolean\n"
   ]
  },
  {
   "cell_type": "code",
   "execution_count": 21,
   "metadata": {},
   "outputs": [
    {
     "name": "stdout",
     "output_type": "stream",
     "text": [
      "Enter a string : madam\n"
     ]
    },
    {
     "data": {
      "text/plain": [
       "True"
      ]
     },
     "execution_count": 21,
     "metadata": {},
     "output_type": "execute_result"
    }
   ],
   "source": [
    "s=input('Enter a string : ')\n",
    "s==s[::-1]"
   ]
  },
  {
   "cell_type": "markdown",
   "metadata": {},
   "source": [
    "### 7. Python code for the given number of days, find how many weeks and how many days are left\n",
    "### eg. input = 15 days, # weeks =  2, # days left = 1"
   ]
  },
  {
   "cell_type": "code",
   "execution_count": 29,
   "metadata": {},
   "outputs": [
    {
     "name": "stdout",
     "output_type": "stream",
     "text": [
      "Enter the number of days : 15\n",
      "Weeks 2\n",
      "Remaining days 1\n"
     ]
    }
   ],
   "source": [
    "days=int(input('Enter the number of days : '))\n",
    "weeks=days//7\n",
    "days_left=days%7\n",
    "print('Weeks',weeks)\n",
    "print('Remaining days',days_left)"
   ]
  },
  {
   "cell_type": "markdown",
   "metadata": {},
   "source": [
    "### 8. Check if the given number is even  without using loops. Output can be in boolean"
   ]
  },
  {
   "cell_type": "code",
   "execution_count": 22,
   "metadata": {},
   "outputs": [
    {
     "name": "stdout",
     "output_type": "stream",
     "text": [
      "Enter the number : 6\n"
     ]
    },
    {
     "data": {
      "text/plain": [
       "True"
      ]
     },
     "execution_count": 22,
     "metadata": {},
     "output_type": "execute_result"
    }
   ],
   "source": [
    "n=int(input('Enter the number : '))\n",
    "(n%2==0)"
   ]
  },
  {
   "cell_type": "code",
   "execution_count": null,
   "metadata": {},
   "outputs": [],
   "source": []
  }
 ],
 "metadata": {
  "kernelspec": {
   "display_name": "Python 3",
   "language": "python",
   "name": "python3"
  },
  "language_info": {
   "codemirror_mode": {
    "name": "ipython",
    "version": 3
   },
   "file_extension": ".py",
   "mimetype": "text/x-python",
   "name": "python",
   "nbconvert_exporter": "python",
   "pygments_lexer": "ipython3",
   "version": "3.7.6"
  }
 },
 "nbformat": 4,
 "nbformat_minor": 2
}
